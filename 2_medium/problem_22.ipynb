{
 "cells": [
  {
   "cell_type": "markdown",
   "metadata": {},
   "source": [
    "This problem was asked by Microsoft.\n",
    "\n",
    "Given a dictionary of words and a string made up of those words (no spaces), return the original sentence in a list. If there is more than one possible reconstruction, return any of them. If there is no possible reconstruction, then return null.\n",
    "\n",
    "For example, given the set of words 'quick', 'brown', 'the', 'fox', and the string \"thequickbrownfox\", you should return ['the', 'quick', 'brown', 'fox'].\n",
    "\n",
    "Given the set of words 'bed', 'bath', 'bedbath', 'and', 'beyond', and the string \"bedbathandbeyond\", return either ['bed', 'bath', 'and', 'beyond] or ['bedbath', 'and', 'beyond']."
   ]
  },
  {
   "cell_type": "markdown",
   "metadata": {},
   "source": [
    "# Answer"
   ]
  },
  {
   "cell_type": "code",
   "execution_count": 12,
   "metadata": {},
   "outputs": [],
   "source": [
    "# O(lst)\n",
    "def word_separator(string, lst): # This assumes that lst has all the words in string\n",
    "    lst_ordered = []\n",
    "    str_trimmed = string\n",
    "    while len(str_trimmed) > 0:\n",
    "        for word in lst:\n",
    "            if word == str_trimmed[:len(word)]:\n",
    "                lst_ordered.append(word)\n",
    "                str_trimmed = str_trimmed[len(word):]\n",
    "                break\n",
    "    if len(lst_ordered) == 0:\n",
    "        return None\n",
    "    else: \n",
    "        return lst_ordered\n",
    "            "
   ]
  },
  {
   "cell_type": "code",
   "execution_count": 14,
   "metadata": {},
   "outputs": [
    {
     "data": {
      "text/plain": [
       "['the', 'quick', 'brown', 'fox']"
      ]
     },
     "execution_count": 14,
     "metadata": {},
     "output_type": "execute_result"
    }
   ],
   "source": [
    "word_separator('thequickbrownfox', ['quick', 'brown', 'the', 'fox'])"
   ]
  },
  {
   "cell_type": "markdown",
   "metadata": {},
   "source": [
    "# Solution"
   ]
  },
  {
   "cell_type": "markdown",
   "metadata": {},
   "source": [
    "We might be initially tempted to take a greedy approach to this problem, by for example, iterating over the string and checking if our current string matches so far. However, you should immediately find that that can't work: consider the dictionary {'the', 'theremin'} and the string 'theremin': we would find 'the' first, and then we wouldn't be able to match 'remin'.\n",
    "\n",
    "So this greedy approach doesn't work, since we would need to go back if we get stuck. This gives us a clue that we might want to use backtracking to help us solve this problem. We also have the following idea for a recurrence: If we split up the string into a prefix and suffix, then we can return the prefix extended with a list of the rest of the sentence, but only if they're both valid. So what we can do is the following:\n",
    "\n",
    "- Iterate over the string and split it into a prefix and suffix\n",
    "- If the prefix is valid (appears in the dictionary), then recursively call on the suffix\n",
    "- If that's valid, then return. Otherwise, continue searching.\n",
    "- If we've gone over the entire sentence and haven't found anything, then return empty.\n",
    "\n",
    "We'll need a helper function to tell us whether the string can actually be broken up into a sentence as well, so let's define find_sentence_helper that also returns whether or not the sentence is valid."
   ]
  },
  {
   "cell_type": "code",
   "execution_count": null,
   "metadata": {},
   "outputs": [],
   "source": [
    "def find_sentence(dictionary, s):\n",
    "    sentence, valid = find_sentence_helper(dictionary, s)\n",
    "    if valid:\n",
    "        return sentence\n",
    "\n",
    "def find_sentence_helper(dictionary, s):\n",
    "    if len(s) == 0:\n",
    "        return [], True\n",
    "\n",
    "    result = []\n",
    "    for i in range(len(s) + 1):\n",
    "        prefix, suffix = s[:i], s[i:]\n",
    "        if prefix in dictionary:\n",
    "            rest, valid = find_sentence_helper(dictionary, suffix)\n",
    "            if valid:\n",
    "                return [prefix] + rest, True\n",
    "    return [], False"
   ]
  },
  {
   "cell_type": "markdown",
   "metadata": {},
   "source": [
    "This will run in O(2^N) time, however. This is because in the worst case, say, for example, s = \"aaaaab\" and dictionary = [\"a\", \"aa\", \"aaa\", \"aaaa\", \"aaaaa\"], we will end up exploring every single path, or every combination of letters, and the total number of combinations of characters is 2^N.\n",
    "\n",
    "We can improve the running time by using dynamic programming to store repeated subcomputations. This reduces the running time to just O(N^2). We'll keep a dictionary that maps from indices to the last word that can be made up to that index. We'll call these starts. Then, we just need to do two nested for loops, one that iterates over the whole string and tries to find a start at that index, and a loop that checks each start to see if a new word can be made from that start to the current index.\n",
    "\n",
    "Now we can simply take the start at the last index and build our sentence backwards:"
   ]
  },
  {
   "cell_type": "code",
   "execution_count": null,
   "metadata": {},
   "outputs": [],
   "source": [
    "def find_sentence(s, dictionary):\n",
    "    starts = {0: ''}\n",
    "    for i in range(len(s) + 1):\n",
    "        new_starts = starts.copy()\n",
    "        for start_index, _ in starts.items():\n",
    "            word = s[start_index:i]\n",
    "            if word in dictionary:\n",
    "                new_starts[i] = word\n",
    "        starts = new_starts.copy()\n",
    "\n",
    "    result = []\n",
    "    current_length = len(s)\n",
    "    if current_length not in starts:\n",
    "        return None\n",
    "    while current_length > 0:\n",
    "        word = starts[current_length]\n",
    "        current_length -= len(word)\n",
    "        result.append(word)\n",
    "\n",
    "    return list(reversed(result))"
   ]
  },
  {
   "cell_type": "markdown",
   "metadata": {},
   "source": [
    "Now this runs in O(N^2) time and O(N) space."
   ]
  },
  {
   "cell_type": "markdown",
   "metadata": {},
   "source": []
  }
 ],
 "metadata": {
  "kernelspec": {
   "display_name": "Python 3.9.13 64-bit (microsoft store)",
   "language": "python",
   "name": "python3"
  },
  "language_info": {
   "name": "python",
   "version": "3.9.13"
  },
  "orig_nbformat": 4,
  "vscode": {
   "interpreter": {
    "hash": "b2ddd62d3916e1314aeb2a2a333a2f9ca5e78cd48ba171057379eb2164a7ad87"
   }
  }
 },
 "nbformat": 4,
 "nbformat_minor": 2
}
