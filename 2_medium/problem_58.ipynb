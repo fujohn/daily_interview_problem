{
 "cells": [
  {
   "cell_type": "markdown",
   "metadata": {},
   "source": [
    "This problem was asked by Amazon.\n",
    "\n",
    "An sorted array of integers was rotated an unknown number of times.\n",
    "\n",
    "Given such an array, find the index of the element in the array in faster than linear time. If the element doesn't exist in the array, return null.\n",
    "\n",
    "For example, given the array [13, 18, 25, 2, 8, 10] and the element 8, return 4 (the index of 8 in the array).\n",
    "\n",
    "You can assume all the integers in the array are unique."
   ]
  },
  {
   "cell_type": "markdown",
   "metadata": {},
   "source": [
    "# Answer"
   ]
  },
  {
   "cell_type": "markdown",
   "metadata": {},
   "source": [
    "# Solution"
   ]
  },
  {
   "cell_type": "markdown",
   "metadata": {},
   "source": [
    "We can obviously do this problem in linear time if we looked at each element in the array. However, we need to do it faster than linear time. A big clue should be that the array of integers was previously sorted, and then rotated. If it was just sorted, we could do a binary search. However, this array was also rotated, so we can't do a regular binary search. We can modify it slightly to get to where we want it, however.\n",
    "\n",
    "In our solution, we first find the rotation point using binary search. We do this by:\n",
    "\n",
    "Checking the midpoint for the rotation point (by comparing it to the previous number and seeing if it's larger)\n",
    "\n",
    "Moving our check up or down the array:\n",
    "- If the number we're looking at is larger than the first item in the array, then the rotation must occur later, so add dist\n",
    "- If not, then it must occur before, so subtract dist\n",
    "\n",
    "And then update dist by dividing it by 2 and taking its floor (so it's proper binary search).\n",
    "\n",
    "Then, once we have the rotation point, we can do binary search as usual by remembering to offset the correct amount.\n",
    "\n",
    "The code would look like this:\n",
    "\n",
    "This solution runs in O(log n). However, this is definitely not the only solution! There are many other possible ways to implement this, but as long as you have the idea of doing binary search, you've got it."
   ]
  },
  {
   "cell_type": "code",
   "execution_count": null,
   "metadata": {},
   "outputs": [],
   "source": [
    "def shifted_array_search(lst, num):\n",
    "    # First, find where the breaking point is in the shifted array\n",
    "    i = len(lst) // 2\n",
    "    dist = i // 2\n",
    "    while True:\n",
    "        if lst[0] > lst[i] and lst[i - 1] > lst[i]:\n",
    "            break\n",
    "        elif dist == 0:\n",
    "            break\n",
    "        elif lst[0] <= lst[i]:\n",
    "            i = i + dist\n",
    "        elif lst[i - 1] <= lst[i]:\n",
    "            i = i - dist\n",
    "        else:\n",
    "            break\n",
    "        dist = dist // 2\n",
    "\n",
    "    # Now that we have the bottom, we can do binary search as usual,\n",
    "    # wrapping around the rotation.\n",
    "    low = i\n",
    "    high = i - 1\n",
    "    dist = len(lst) // 2\n",
    "    while True:\n",
    "        if dist == 0:\n",
    "            return None\n",
    "\n",
    "        guess_ind = (low + dist) % len(lst)\n",
    "        guess = lst[guess_ind]\n",
    "        if guess == num:\n",
    "            return guess_ind\n",
    "\n",
    "        if guess < num:\n",
    "            low = (low + dist) % len(lst)\n",
    "        if guess > num:\n",
    "            high = (len(lst) + high - dist) % len(lst)\n",
    "\n",
    "        dist = dist // 2"
   ]
  }
 ],
 "metadata": {
  "kernelspec": {
   "display_name": "Python 3.9.13 64-bit (microsoft store)",
   "language": "python",
   "name": "python3"
  },
  "language_info": {
   "name": "python",
   "version": "3.9.13"
  },
  "orig_nbformat": 4,
  "vscode": {
   "interpreter": {
    "hash": "b2ddd62d3916e1314aeb2a2a333a2f9ca5e78cd48ba171057379eb2164a7ad87"
   }
  }
 },
 "nbformat": 4,
 "nbformat_minor": 2
}
