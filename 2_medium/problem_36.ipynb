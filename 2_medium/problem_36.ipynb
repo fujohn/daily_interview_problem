{
 "cells": [
  {
   "cell_type": "markdown",
   "metadata": {},
   "source": [
    "This problem was asked by Dropbox.\n",
    "\n",
    "Given the root to a binary search tree, find the second largest node in the tree."
   ]
  },
  {
   "cell_type": "markdown",
   "metadata": {},
   "source": [
    "# Answer"
   ]
  },
  {
   "cell_type": "code",
   "execution_count": null,
   "metadata": {},
   "outputs": [],
   "source": []
  },
  {
   "cell_type": "markdown",
   "metadata": {},
   "source": [
    "# Solution"
   ]
  },
  {
   "cell_type": "markdown",
   "metadata": {},
   "source": [
    "An in-order traversal of the binary search tree would give us all the nodes of the tree in sorted order. So the naive solution here might be do an in-order traversal of the tree, store it in an array, and return the second-to-last element in the array.\n",
    "\n",
    "This takes O(N) time and space since we have to go through and store every node in the tree.\n",
    "\n",
    "We can do better. Notice that the in-order traversal explores always the left node first before the current node. We could do something similar to that by exploring the right node first.\n",
    "\n",
    "Let's do a reverse in-order traversal, where we first call ourselves recursively on the right node. Because it's reversed, that should give us the binary tree in reverse sorted order.\n",
    "\n",
    "So we can keep a counter, and once we start processing the current node we can increment the counter. Once it hits 2, that means the current node we're looking at is the second largest, so we can stuff it in a variable and eventually return that."
   ]
  },
  {
   "cell_type": "code",
   "execution_count": null,
   "metadata": {},
   "outputs": [],
   "source": [
    "def second_largest(root):\n",
    "    def inorder(node):\n",
    "        if not node or count[0] == 2:\n",
    "            return\n",
    "\n",
    "        if node.right:\n",
    "            inorder(node.right)\n",
    "\n",
    "        count[0] += 1\n",
    "        if count[0] == 2:\n",
    "            val.append(node.val)\n",
    "            return\n",
    "\n",
    "        if node.left:\n",
    "            inorder(node.left)\n",
    "\n",
    "    count = [0]\n",
    "    val = []\n",
    "    inorder(root)\n",
    "    return val[0]"
   ]
  },
  {
   "cell_type": "markdown",
   "metadata": {},
   "source": [
    "Unfortunately because of Python's demented scoping rules, we have to wrap count and val in a list. Ugly!"
   ]
  },
  {
   "cell_type": "markdown",
   "metadata": {},
   "source": []
  }
 ],
 "metadata": {
  "kernelspec": {
   "display_name": "Python 3.9.13 64-bit (microsoft store)",
   "language": "python",
   "name": "python3"
  },
  "language_info": {
   "name": "python",
   "version": "3.9.13"
  },
  "orig_nbformat": 4,
  "vscode": {
   "interpreter": {
    "hash": "b2ddd62d3916e1314aeb2a2a333a2f9ca5e78cd48ba171057379eb2164a7ad87"
   }
  }
 },
 "nbformat": 4,
 "nbformat_minor": 2
}
