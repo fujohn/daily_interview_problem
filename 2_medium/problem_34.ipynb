{
 "cells": [
  {
   "cell_type": "markdown",
   "metadata": {},
   "source": [
    "This problem was asked by Quora.\n",
    "\n",
    "Given a string, find the palindrome that can be made by inserting the fewest number of characters as possible anywhere in the word. If there is more than one palindrome of minimum length that can be made, return the lexicographically earliest one (the first one alphabetically).\n",
    "\n",
    "For example, given the string \"race\", you should return \"ecarace\", since we can add three letters to it (which is the smallest amount to make a palindrome). There are seven other palindromes that can be made from \"race\" by adding three letters, but \"ecarace\" comes first alphabetically.\n",
    "\n",
    "As another example, given the string \"google\", you should return \"elgoogle\"."
   ]
  },
  {
   "cell_type": "markdown",
   "metadata": {},
   "source": [
    "# Answer"
   ]
  },
  {
   "cell_type": "code",
   "execution_count": 1,
   "metadata": {},
   "outputs": [],
   "source": [
    "def is_palindrome(s):\n",
    "    return s == s[::-1]\n",
    "\n",
    "def make_palindrome(s):\n",
    "    if is_palindrome(s):\n",
    "        return s\n",
    "    if s[0] == s[-1]:\n",
    "        return s[0] + make_palindrome(s[1:-1]) + s[-1]\n",
    "    else:\n",
    "        one = s[0] + make_palindrome(s[1:]) + s[0]\n",
    "        two = s[-1] + make_palindrome(s[:-1]) + s[-1]\n",
    "        if len(one) < len(two):\n",
    "            return one\n",
    "        elif len(one) > len(two):\n",
    "            return two\n",
    "        else:\n",
    "            return min(one, two)"
   ]
  },
  {
   "cell_type": "markdown",
   "metadata": {},
   "source": [
    "# Solution"
   ]
  },
  {
   "cell_type": "markdown",
   "metadata": {},
   "source": [
    "Recall that the min of two strings in python will return the lexicographically earliest one!\n",
    "\n",
    "However, this algorithm runs in O(2^N) time, since we could potentially make two recursive calls each time. We can speed up using dynamic programming, as usual. We can either memoize our results so that we don't duplicate any work, or use a table and do bottom-up programming.\n",
    "\n",
    "Let's start with memoization. We can keep a cache and store all our results when we compute them in the cache. If we come across a string we've seen before, then we just need to look it up in the cache."
   ]
  },
  {
   "cell_type": "code",
   "execution_count": 2,
   "metadata": {},
   "outputs": [],
   "source": [
    "cache = {}\n",
    "\n",
    "def is_palindrome(s):\n",
    "    return s == s[::-1]\n",
    "\n",
    "def make_palindrome(s):\n",
    "    if s in cache:\n",
    "        return cache[s]\n",
    "\n",
    "    if is_palindrome(s):\n",
    "        cache[s] = s\n",
    "        return s\n",
    "    if s[0] == s[-1]:\n",
    "        result = s[0] + make_palindrome(s[1:-1]) + s[-1]\n",
    "        cache[s] = result\n",
    "        return result\n",
    "    else:\n",
    "        one = s[0] + make_palindrome(s[1:]) + s[0]\n",
    "        two = s[-1] + make_palindrome(s[:-1]) + s[-1]\n",
    "        cache[s] = min(one, two)\n",
    "        return min(one, two)"
   ]
  },
  {
   "cell_type": "markdown",
   "metadata": {},
   "source": [
    "However, this is inefficient due to buildup in the call stack. We can build a 2D table instead. We'll store, in each index, the shortest palindrome that can be made in the substring defined from i to i + j. Then instead of calling ourselves recursively, we'll just look up the values in our table:"
   ]
  },
  {
   "cell_type": "code",
   "execution_count": null,
   "metadata": {},
   "outputs": [],
   "source": [
    "def make_palindrome(s):\n",
    "    if len(s) <= 1:\n",
    "        return s\n",
    "    table = [['' for i in range(len(s) + 1)] for j in range(len(s) + 1)]\n",
    "\n",
    "    for i in range(len(s)):\n",
    "        table[i][1] = s[i]\n",
    "\n",
    "    for j in range(2, len(s) + 1):\n",
    "        for i in range(len(s) - j + 1):\n",
    "            term = s[i:i + j]\n",
    "            first, last = term[0], term[-1]\n",
    "            if first == last:\n",
    "                table[i][j] = first + table[i + 1][j - 2] + last\n",
    "            else:\n",
    "                one = first + table[i + 1][j - 1] + first\n",
    "                two = last + table[i][j - 1] + last\n",
    "                if len(one) < len(two):\n",
    "                    table[i][j] = one\n",
    "                elif len(one) > len(two):\n",
    "                    table[i][j] = two\n",
    "                else:\n",
    "                    table[i][j] = min(one, two)\n",
    "\n",
    "    return table[0][-1]"
   ]
  },
  {
   "cell_type": "markdown",
   "metadata": {},
   "source": [
    "Because we store a part of our input string in each index of our matrix, the time and space complexity for this solution is O(N^3)."
   ]
  }
 ],
 "metadata": {
  "kernelspec": {
   "display_name": "Python 3.9.13 64-bit (microsoft store)",
   "language": "python",
   "name": "python3"
  },
  "language_info": {
   "codemirror_mode": {
    "name": "ipython",
    "version": 3
   },
   "file_extension": ".py",
   "mimetype": "text/x-python",
   "name": "python",
   "nbconvert_exporter": "python",
   "pygments_lexer": "ipython3",
   "version": "3.9.13"
  },
  "orig_nbformat": 4,
  "vscode": {
   "interpreter": {
    "hash": "b2ddd62d3916e1314aeb2a2a333a2f9ca5e78cd48ba171057379eb2164a7ad87"
   }
  }
 },
 "nbformat": 4,
 "nbformat_minor": 2
}
