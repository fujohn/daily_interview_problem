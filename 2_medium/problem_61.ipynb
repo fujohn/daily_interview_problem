{
 "cells": [
  {
   "cell_type": "markdown",
   "metadata": {},
   "source": [
    "This problem was asked by Google.\n",
    "\n",
    "Implement integer exponentiation. That is, implement the pow(x, y) function, where x and y are integers and returns x^y.\n",
    "\n",
    "Do this faster than the naive method of repeated multiplication.\n",
    "\n",
    "For example, pow(2, 10) should return 1024."
   ]
  },
  {
   "cell_type": "markdown",
   "metadata": {},
   "source": [
    "# Answer"
   ]
  },
  {
   "cell_type": "markdown",
   "metadata": {},
   "source": [
    "# Solution"
   ]
  },
  {
   "cell_type": "markdown",
   "metadata": {},
   "source": [
    "Implementing exponention naively is quite straightforward. We can either do it iteratively:"
   ]
  },
  {
   "cell_type": "code",
   "execution_count": null,
   "metadata": {},
   "outputs": [],
   "source": [
    "def power(x, y):\n",
    "    if y < 0:\n",
    "        base = 1 / x\n",
    "        exponent = -y\n",
    "    else:\n",
    "        base = x\n",
    "        exponent = y\n",
    "    result = 1\n",
    "    for _ in range(exponent):\n",
    "        result *= base\n",
    "    return result"
   ]
  },
  {
   "cell_type": "markdown",
   "metadata": {},
   "source": [
    "or recursively:"
   ]
  },
  {
   "cell_type": "code",
   "execution_count": null,
   "metadata": {},
   "outputs": [],
   "source": [
    "def power(x, y):\n",
    "    if y < 0:\n",
    "        return power(1 / x, -y)\n",
    "    elif y == 0:\n",
    "        return 1\n",
    "    else:\n",
    "        return x * power(x, y - 1)"
   ]
  },
  {
   "cell_type": "markdown",
   "metadata": {},
   "source": [
    "Just remember to deal with negative exponents!\n",
    "\n",
    "However, we need to do faster than just naive multiplication. How can we do this?\n",
    "\n",
    "Notice that the main bottleneck in performance here is doing multiplications y times. Since the process of multiplication takes about the same amount of time regardless of the actual sizes of the numbers, we should look at trying to move some of the work from the exponent to the base.\n",
    "\n",
    "We can rewrite x^y as the following.\n",
    "\n",
    "- If y is even, then x^y = (x^2) ^ (y/2)\n",
    "- If y is odd, then x^y = x * ((x^2) ^ ((y - 1) / 2))\n",
    "\n",
    "Now, by squaring the base, we have half as many multiplications to do! Let's go through an example. Say we want to compute 2^20. We can then do it like this:\n",
    "\n",
    "- 2^20 = 4^10 = 16^5 = 16 * (256)^2 = 16 * 256 * 256\n",
    "\n",
    "We've reduced the number of multiplications we need to do from 20 to 4. Let's code it up.\n",
    "\n",
    "Again, we can do this iteratively:"
   ]
  },
  {
   "cell_type": "code",
   "execution_count": null,
   "metadata": {},
   "outputs": [],
   "source": [
    "def power(x, y):\n",
    "    base = x\n",
    "    exponent = y\n",
    "    if y < 0:\n",
    "        base = 1 / x\n",
    "        exponent = -y\n",
    "    coeff = 1\n",
    "    while y > 1:\n",
    "        if y % 2 == 0:\n",
    "            base *= base\n",
    "            y = y // 2\n",
    "        else:\n",
    "            coeff *= base\n",
    "            base *= base\n",
    "            y = (y - 1) // 2\n",
    "    return coeff * base"
   ]
  },
  {
   "cell_type": "markdown",
   "metadata": {},
   "source": [
    "Or recursively, although it takes up more space on the call stack:"
   ]
  },
  {
   "cell_type": "code",
   "execution_count": null,
   "metadata": {},
   "outputs": [],
   "source": [
    "def power(x, y):\n",
    "    if y < 0:\n",
    "        return power(1 / x, -y)\n",
    "    elif y == 0:\n",
    "        return 1\n",
    "    elif y == 1:\n",
    "        return x\n",
    "    elif y % 2 == 0:\n",
    "        return power(x * x, y // 2)\n",
    "    else: # y is odd\n",
    "        return x * power(x * x, y // 2)"
   ]
  },
  {
   "cell_type": "markdown",
   "metadata": {},
   "source": [
    "Since we're nearly halving the number of multiplications we need to do at each step, this will run in O(log y) time."
   ]
  }
 ],
 "metadata": {
  "kernelspec": {
   "display_name": "Python 3.9.13 64-bit (microsoft store)",
   "language": "python",
   "name": "python3"
  },
  "language_info": {
   "name": "python",
   "version": "3.9.13"
  },
  "orig_nbformat": 4,
  "vscode": {
   "interpreter": {
    "hash": "b2ddd62d3916e1314aeb2a2a333a2f9ca5e78cd48ba171057379eb2164a7ad87"
   }
  }
 },
 "nbformat": 4,
 "nbformat_minor": 2
}
