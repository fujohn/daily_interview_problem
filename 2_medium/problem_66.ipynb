{
 "cells": [
  {
   "cell_type": "markdown",
   "metadata": {},
   "source": [
    "This problem was asked by Square.\n",
    "\n",
    "Assume you have access to a function toss_biased() which returns 0 or 1 with a probability that's not 50-50 (but also not 0-100 or 100-0). You do not know the bias of the coin.\n",
    "\n",
    "Write a function to simulate an unbiased coin toss."
   ]
  },
  {
   "cell_type": "markdown",
   "metadata": {},
   "source": [
    "# Answer"
   ]
  },
  {
   "cell_type": "code",
   "execution_count": null,
   "metadata": {},
   "outputs": [],
   "source": []
  },
  {
   "cell_type": "markdown",
   "metadata": {},
   "source": [
    "# Solution"
   ]
  },
  {
   "cell_type": "markdown",
   "metadata": {},
   "source": [
    "Since we don't know the bias of the coin, it sounds like we need to roll the coin more than once and do some calculations to find something with a 50-50 chance of occurring. Let's draw out the probability chart for tossing our coin twice. Let's say the probability of getting heads is p, so tails is 1 - p:\n",
    "\n",
    "HH: p * p\n",
    "HT: p * (1 - p)\n",
    "TH: (1 - p) * p\n",
    "TT: (1 - p) * (1 - p)\n",
    "\n",
    "Since multiplication is commutative, we find that flipping heads and then tails has the same probability of flipping tails, then heads! Then, our strategy looks like this:\n",
    "\n",
    "- Toss our coin twice.\n",
    "- If we get heads and then tails, return heads. (It doesn't really matter which as long as the inverse one is opposite)\n",
    "- If we get heads and then tails, return tails.\n",
    "- Otherwise if we get the same outcome for both coins, re-toss."
   ]
  },
  {
   "cell_type": "code",
   "execution_count": null,
   "metadata": {},
   "outputs": [],
   "source": [
    "from random import random\n",
    "\n",
    "BIAS = 0.66\n",
    "\n",
    "def toss_biased():\n",
    "    return random() > BIAS\n",
    "\n",
    "def toss_fair():\n",
    "    t1, t2 = toss_biased(), toss_biased()\n",
    "    if t1 and not t2:\n",
    "        return True\n",
    "    elif not t1 and t2:\n",
    "        return False\n",
    "    else:\n",
    "        return toss_fair()"
   ]
  },
  {
   "cell_type": "markdown",
   "metadata": {},
   "source": [
    "Testing this seems to bear it out:"
   ]
  },
  {
   "cell_type": "code",
   "execution_count": null,
   "metadata": {},
   "outputs": [],
   "source": [
    "from collections import defaultdict\n",
    "c = defaultdict(int)\n",
    "for i in range(1000000):\n",
    "    c[toss_fair()] += 1\n",
    "print(c)"
   ]
  },
  {
   "cell_type": "markdown",
   "metadata": {},
   "source": [
    "defaultdict(<class 'int'>, {False: 500104, True: 499896})\n",
    "\n",
    "\n",
    "Because there's a possibility that we always roll the same two values, there is a possibility that this function never terminates."
   ]
  },
  {
   "cell_type": "markdown",
   "metadata": {},
   "source": []
  }
 ],
 "metadata": {
  "kernelspec": {
   "display_name": "Python 3.9.13 64-bit (microsoft store)",
   "language": "python",
   "name": "python3"
  },
  "language_info": {
   "name": "python",
   "version": "3.9.13"
  },
  "orig_nbformat": 4,
  "vscode": {
   "interpreter": {
    "hash": "b2ddd62d3916e1314aeb2a2a333a2f9ca5e78cd48ba171057379eb2164a7ad87"
   }
  }
 },
 "nbformat": 4,
 "nbformat_minor": 2
}
