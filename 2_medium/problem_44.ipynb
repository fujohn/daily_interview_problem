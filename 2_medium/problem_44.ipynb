{
 "cells": [
  {
   "cell_type": "markdown",
   "metadata": {},
   "source": [
    "This problem was asked by Google.\n",
    "\n",
    "We can determine how \"out of order\" an array A is by counting the number of inversions it has. Two elements A[i] and A[j] form an inversion if A[i] > A[j] but i < j. That is, a smaller element appears after a larger element.\n",
    "\n",
    "Given an array, count the number of inversions it has. Do this faster than O(N^2) time.\n",
    "\n",
    "You may assume each element in the array is distinct.\n",
    "\n",
    "For example, a sorted list has zero inversions. The array [2, 4, 1, 3, 5] has three inversions: (2, 1), (4, 1), and (4, 3). The array [5, 4, 3, 2, 1] has ten inversions: every distinct pair forms an inversion."
   ]
  },
  {
   "cell_type": "markdown",
   "metadata": {},
   "source": [
    "# Answer"
   ]
  },
  {
   "cell_type": "markdown",
   "metadata": {},
   "source": [
    "# Solution"
   ]
  },
  {
   "cell_type": "markdown",
   "metadata": {},
   "source": [
    "The brute force solution here should come naturally from the definition: we can run a doubly nested for loop over all pairs, and increment a counter whenever we encounter a larger element before a smaller element. That would look like this:"
   ]
  },
  {
   "cell_type": "code",
   "execution_count": null,
   "metadata": {},
   "outputs": [],
   "source": [
    "def count_inversions(arr):\n",
    "    count = 0\n",
    "    for i in range(len(arr) - 1):\n",
    "        for j in range(i + 1, len(arr)):\n",
    "            if arr[i] > arr[j]:\n",
    "                count += 1\n",
    "    return count"
   ]
  },
  {
   "cell_type": "markdown",
   "metadata": {},
   "source": [
    "However, this would run in O(N^2), and we want something faster. We can use the following recursive, divide-and-conquer algorithm to count the number of inversions in O(N log N) time.\n",
    "\n",
    "- First, let's separate our input array into two halves A and B\n",
    "- Count the number of inversions in each list recursively\n",
    "- Count the inversions between A and B\n",
    "- Return the sum of all three counts\n",
    "- If we are able to count all the inversions between A and B in linear time, then according to the master theorem for divide-and-conquer recurrences), our algorithm will run in O(N log N) time, since we have the same recurrence relationship as merge sort.\n",
    "\n",
    "How can we count the inversions between A and B in linear time? If we expand our count_inversions function to also sort the array as well, we can use a similar technique to merge sort to merge and also count the inversions between A and B. To be specific, assuming A and B are sorted, we can construct a helper function that does the following:\n",
    "\n",
    "- Scan A and B from left to right, with two pointers i and j\n",
    "\n",
    "Compare A[i] and B[j]\n",
    "- If A[i] is smaller than B[j], then A[i] is not inverted with anything from B, since it's expected that everything in A would be smaller than everything in B if A + B was sorted.\n",
    "- If A[i] is greater than B[j], then B[j] is inverted with everything from A[i:], since A is sorted. Increment our counter by the number of elements in A[i:].\n",
    "\n",
    "Append the smaller element between A[i] and B[j] to our sorted list\n",
    "\n",
    "Return the sorted list"
   ]
  },
  {
   "cell_type": "code",
   "execution_count": null,
   "metadata": {},
   "outputs": [],
   "source": [
    "def count_inversions(arr):\n",
    "    count, _ = count_inversions_helper(arr)\n",
    "    return count\n",
    "\n",
    "def count_inversions_helper(arr):\n",
    "    if len(arr) <= 1:\n",
    "        return 0, arr\n",
    "    mid = len(arr) // 2\n",
    "    a = arr[:mid]\n",
    "    b = arr[mid:]\n",
    "    left_count, left_sorted_arr = count_inversions_helper(a)\n",
    "    right_count, right_sorted_arr = count_inversions_helper(b)\n",
    "    between_count, sorted_arr = merge_and_count(left_sorted_arr, right_sorted_arr)\n",
    "    return left_count + right_count + between_count, sorted_arr\n",
    "\n",
    "def merge_and_count(a, b):\n",
    "    count = 0\n",
    "    sorted_arr = []\n",
    "    i, j = 0, 0\n",
    "    while i < len(a) and j < len(b):\n",
    "        if a[i] < b[j]:\n",
    "            sorted_arr.append(a[i])\n",
    "            i += 1\n",
    "        elif a[i] > b[j]:\n",
    "            sorted_arr.append(b[j])\n",
    "            count += len(a) - i\n",
    "            j += 1\n",
    "    sorted_arr.extend(a[i:])\n",
    "    sorted_arr.extend(b[j:])\n",
    "    return count, sorted_arr"
   ]
  }
 ],
 "metadata": {
  "language_info": {
   "name": "python"
  },
  "orig_nbformat": 4
 },
 "nbformat": 4,
 "nbformat_minor": 2
}
