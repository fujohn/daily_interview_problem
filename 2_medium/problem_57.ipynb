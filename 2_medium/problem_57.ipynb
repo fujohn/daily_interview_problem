{
 "cells": [
  {
   "cell_type": "markdown",
   "metadata": {},
   "source": [
    "This problem was asked by Amazon.\n",
    "\n",
    "Given a string s and an integer k, break up the string into multiple lines such that each line has a length of k or less. You must break it up so that words don't break across lines. Each line has to have the maximum possible amount of words. If there's no way to break the text up, then return null.\n",
    "\n",
    "You can assume that there are no spaces at the ends of the string and that there is exactly one space between each word.\n",
    "\n",
    "For example, given the string \"the quick brown fox jumps over the lazy dog\" and k = 10, you should return: [\"the quick\", \"brown fox\", \"jumps over\", \"the lazy\", \"dog\"]. No string in the list has a length of more than 10."
   ]
  },
  {
   "cell_type": "markdown",
   "metadata": {},
   "source": [
    "# Answer"
   ]
  },
  {
   "cell_type": "code",
   "execution_count": null,
   "metadata": {},
   "outputs": [],
   "source": [
    "ffds"
   ]
  },
  {
   "cell_type": "markdown",
   "metadata": {},
   "source": [
    "# Solution"
   ]
  },
  {
   "cell_type": "markdown",
   "metadata": {},
   "source": [
    "We can break up the string greedily. First we'll break up s into an array words. Then, we can use a buffer as a current string and tentatively add words to it, checking that the newly-added-to line can fit within k. If we overflow with the new word, then we flush out the current string into an array all and restart it with the new word.\n",
    "\n",
    "Notice that if any word is longer than k, then there's no way to break up the text, so we should return None. It's helpful to define a helper function that returns the length of a list of words with spaces added in between.\n",
    "\n",
    "Finally, we return all, which should contain the texts we want.\n",
    "\n",
    "def break(s, k):"
   ]
  },
  {
   "cell_type": "code",
   "execution_count": null,
   "metadata": {},
   "outputs": [],
   "source": [
    "def break(s, k):\n",
    "    words = s.split()\n",
    "\n",
    "    if not words:\n",
    "        return []\n",
    "\n",
    "    current = []\n",
    "    all = []\n",
    "\n",
    "    for i, word in enumerate(words):\n",
    "        if length(current + [word]) <= k:\n",
    "            current.append(word)\n",
    "        elif length([word]) > k:\n",
    "            return None\n",
    "        else:\n",
    "            all.append(current)\n",
    "            current = [word]\n",
    "    all.append(current)\n",
    "\n",
    "    return all\n",
    "\n",
    "def length(words):\n",
    "    if not words:\n",
    "        return 0\n",
    "    return sum(len(word) for word in words) + (len(words) - 1)"
   ]
  }
 ],
 "metadata": {
  "kernelspec": {
   "display_name": "Python 3.9.13 64-bit (microsoft store)",
   "language": "python",
   "name": "python3"
  },
  "language_info": {
   "name": "python",
   "version": "3.9.13"
  },
  "orig_nbformat": 4,
  "vscode": {
   "interpreter": {
    "hash": "b2ddd62d3916e1314aeb2a2a333a2f9ca5e78cd48ba171057379eb2164a7ad87"
   }
  }
 },
 "nbformat": 4,
 "nbformat_minor": 2
}
