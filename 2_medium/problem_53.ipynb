{
 "cells": [
  {
   "cell_type": "markdown",
   "metadata": {},
   "source": [
    "This problem was asked by Apple.\n",
    "\n",
    "Implement a queue using two stacks. Recall that a queue is a FIFO (first-in, first-out) data structure with the following methods: enqueue, which inserts an element into the queue, and dequeue, which removes it."
   ]
  },
  {
   "cell_type": "markdown",
   "metadata": {},
   "source": [
    "# Answer"
   ]
  },
  {
   "cell_type": "code",
   "execution_count": null,
   "metadata": {},
   "outputs": [],
   "source": []
  },
  {
   "cell_type": "markdown",
   "metadata": {},
   "source": [
    "# Solution"
   ]
  },
  {
   "cell_type": "markdown",
   "metadata": {},
   "source": [
    "We can implement this by noticing that while a stack is LIFO (last in first out), if we empty a stack one-by-one into another stack, and then pop from the other stack we can simulate a FIFO (first in first out) list.\n",
    "\n",
    "Consider enqueuing three elements: 1, 2, and then 3:\n",
    "\n",
    "stack1: [1, 2, 3]\n",
    "stack2: []\n",
    "\n",
    "Then emptying stack1 into stack2:\n",
    "\n",
    "stack1: []\n",
    "stack2: [3, 2, 1]\n",
    "\n",
    "Then dequeuing three times:\n",
    "\n",
    "1\n",
    "2\n",
    "3\n",
    "\n",
    "Which retains the original order. So when enqueuing, we can simply push to our first stack. When dequeuing, we'll first check our second stack to see if any residual elements are there from a previous emptying, and if not, we'll empty all of stack one into stack two immediately so that the order of elements is correct (we shouldn't empty some elements into stack two, pop only some of them, and then empty some more, for example)."
   ]
  },
  {
   "cell_type": "code",
   "execution_count": null,
   "metadata": {},
   "outputs": [],
   "source": [
    "class Queue:\n",
    "    def __init__(self):\n",
    "        self.s1 = []\n",
    "        self.s2 = []\n",
    "\n",
    "    def enqueue(self, val):\n",
    "        self.s1.append(val)\n",
    "\n",
    "    def dequeue(self):\n",
    "        if self.s2:\n",
    "            return self.s2.pop()\n",
    "        if self.s1:\n",
    "            # empty all of s1 into s2\n",
    "            while self.s1:\n",
    "                self.s2.append(self.s1.pop())\n",
    "            return self.s2.pop()\n",
    "        return None"
   ]
  }
 ],
 "metadata": {
  "language_info": {
   "name": "python"
  },
  "orig_nbformat": 4
 },
 "nbformat": 4,
 "nbformat_minor": 2
}
