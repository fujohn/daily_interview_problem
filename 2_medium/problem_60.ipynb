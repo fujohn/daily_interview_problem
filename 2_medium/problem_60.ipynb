{
 "cells": [
  {
   "cell_type": "markdown",
   "metadata": {},
   "source": [
    "This problem was asked by Facebook.\n",
    "\n",
    "Given a multiset of integers, return whether it can be partitioned into two subsets whose sums are the same.\n",
    "\n",
    "For example, given the multiset {15, 5, 20, 10, 35, 15, 10}, it would return true, since we can split it up into {15, 5, 10, 15, 10} and {20, 35}, which both add up to 55.\n",
    "\n",
    "Given the multiset {15, 5, 20, 10, 35}, it would return false, since we can't split it up into two subsets that add up to the same sum."
   ]
  },
  {
   "cell_type": "markdown",
   "metadata": {},
   "source": [
    "# Answer"
   ]
  },
  {
   "cell_type": "markdown",
   "metadata": {},
   "source": [
    "# Solution"
   ]
  },
  {
   "cell_type": "markdown",
   "metadata": {},
   "source": [
    "Solution\n",
    "The naive, brute force solution would be to try every combination of two subsets and check their sums. We could do this by trying to generate each subset of our input set, and then checking the sum of that subset with the sum of everything not in the subset.\n",
    "\n",
    "To speed this up, notice that we really only need to find a subset that adds up to half of the total sum of all the integers. This is because of the pigeonhole principle: if one subset adds up to half of the sum, then the rest of the sum must be made up of the rest of the set.\n",
    "\n",
    "So, we can generate the powerset of our set and check if any of them sum to k / 2, where k is the sum of the set. We know immediately that if k is odd, then we can't partition the sets, so we can immediately return False.\n",
    "\n",
    "We did powerset in Daily Coding Problem #37, so let's reuse that:"
   ]
  },
  {
   "cell_type": "code",
   "execution_count": null,
   "metadata": {},
   "outputs": [],
   "source": [
    "def power_set(s):\n",
    "    if not s:\n",
    "        return [[]]\n",
    "    result = power_set(s[1:])\n",
    "    return result + [subset + [s[0]] for subset in result]"
   ]
  },
  {
   "cell_type": "markdown",
   "metadata": {},
   "source": [
    "Then partition will just be:"
   ]
  },
  {
   "cell_type": "code",
   "execution_count": null,
   "metadata": {},
   "outputs": [],
   "source": [
    "def partition(s):\n",
    "    k = sum(s)\n",
    "    if k % 2 != 0:\n",
    "        return False\n",
    "    powerset = power_set(s)\n",
    "    for subset in powerset:\n",
    "        if sum(subset) == k / 2:\n",
    "            return True\n",
    "    return False"
   ]
  },
  {
   "cell_type": "markdown",
   "metadata": {},
   "source": [
    "This will run in O(N * 2^N) time though, since we must generate every subset and sum them up. Can we make this any faster?\n",
    "\n",
    "Notice that we've reduced the problem into finding a subset of integers that add up to k / 2, which is exactly the same Daily Coding Problem #42: finding a subset of integers that sum up to k (a different k).\n",
    "\n",
    "Recall that we solved that problem by created a matrix of size len(nums) + 1 by k + 1, and then using dynamic programming to fill up the matrix. We can something similar here, except we'll use our k / 2 as our target.\n",
    "\n",
    "Each entry A[i][j] in our matrix will represent whether or not we can make the integer i with the elements of our set from 0 to j. So we'll do the following:\n",
    "\n",
    "- Create a matrix of size k + 1 by len(s) + 1 of booleans (all initialized to False).\n",
    "- Initialize the top row to True, since we can make 0 with anything (by not picking anything)\n",
    "- Initialize the left column to False (except for the one in the first row), since we can't make anything other than 0 with nothing\n",
    "- Iterate over the matrix from top-to-bottom, then left-to-right:\n",
    " (At each index A[i][j], look at A[i][j - 1] or A[i - last][j - 1] and set to True if any are true.)\n",
    "- Return the value at the bottom-right of the matrix."
   ]
  },
  {
   "cell_type": "code",
   "execution_count": null,
   "metadata": {},
   "outputs": [],
   "source": [
    "def partition(s):\n",
    "    k = sum(s)\n",
    "    if k % 2 != 0:\n",
    "        return False\n",
    "    k_over_two = k // 2\n",
    "\n",
    "    A = [[False for _ in range(len(s) + 1)] for _ in range(k_over_two + 1)]\n",
    "\n",
    "    for j in range(len(s) + 1):\n",
    "        A[0][j] = True\n",
    "\n",
    "    for i in range(1, k_over_two + 1):\n",
    "        A[i][0] = False\n",
    "\n",
    "    for i in range(1, k_over_two + 1):\n",
    "        for j in range(1, len(s) + 1):\n",
    "            using_last = i - s[j - 1]\n",
    "            if using_last >= 0:\n",
    "                A[i][j] = A[i][j - 1] or A[using_last][j - 1]\n",
    "            else:\n",
    "                A[i][j] = A[i][j - 1]\n",
    "    return A[-1][-1]"
   ]
  },
  {
   "cell_type": "markdown",
   "metadata": {},
   "source": [
    "This will take O(K * N) time and space, just like in the knapsack problem."
   ]
  }
 ],
 "metadata": {
  "kernelspec": {
   "display_name": "Python 3.9.13 64-bit (microsoft store)",
   "language": "python",
   "name": "python3"
  },
  "language_info": {
   "name": "python",
   "version": "3.9.13"
  },
  "orig_nbformat": 4,
  "vscode": {
   "interpreter": {
    "hash": "b2ddd62d3916e1314aeb2a2a333a2f9ca5e78cd48ba171057379eb2164a7ad87"
   }
  }
 },
 "nbformat": 4,
 "nbformat_minor": 2
}
