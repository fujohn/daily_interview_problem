{
 "cells": [
  {
   "cell_type": "markdown",
   "metadata": {},
   "source": [
    "This problem was asked by Facebook.\n",
    "\n",
    "Given an unordered list of flights taken by someone, each represented as (origin, destination) pairs, and a starting airport, compute the person's itinerary. If no such itinerary exists, return null. If there are multiple possible itineraries, return the lexicographically smallest one. All flights must be used in the itinerary.\n",
    "\n",
    "For example, given the list of flights [('SFO', 'HKO'), ('YYZ', 'SFO'), ('YUL', 'YYZ'), ('HKO', 'ORD')] and starting airport 'YUL', you should return the list ['YUL', 'YYZ', 'SFO', 'HKO', 'ORD'].\n",
    "\n",
    "Given the list of flights [('SFO', 'COM'), ('COM', 'YYZ')] and starting airport 'COM', you should return null.\n",
    "\n",
    "Given the list of flights [('A', 'B'), ('A', 'C'), ('B', 'C'), ('C', 'A')] and starting airport 'A', you should return the list ['A', 'B', 'C', 'A', 'C'] even though ['A', 'C', 'A', 'B', 'C'] is also a valid itinerary. However, the first one is lexicographically smaller."
   ]
  },
  {
   "cell_type": "markdown",
   "metadata": {},
   "source": [
    "# Answer"
   ]
  },
  {
   "cell_type": "code",
   "execution_count": null,
   "metadata": {},
   "outputs": [],
   "source": []
  },
  {
   "cell_type": "markdown",
   "metadata": {},
   "source": [
    "# Solution"
   ]
  },
  {
   "cell_type": "markdown",
   "metadata": {},
   "source": [
    "This problem is similar to the N queens problem a few days ago: we have a desired final state (all the flights are used up), we can construct partial itineraries and reject them, and at each step we have potentially multiple avenues to explore. That suggests that backtracking is again a very likely candidate for solving our problem.\n",
    "\n",
    "In particular, we can do the following:\n",
    "\n",
    "- Keep a list of itinerary candidates\n",
    "- Keep a current itinerary initialized with our starting airport\n",
    "\n",
    "Then, recursively:\n",
    "- Iterate over all the flights that start from the last airport in our itinerary\n",
    "- For each flight, temporarily add the destination to our itinerary and remove it from the flight list. Then call ourselves recursively with the new itinerary and flight list.\n",
    "- Concatenate all the results to our list of itinerary candidates.\n",
    "\n",
    "- Sort our itinerary candidates and pick the lexicographically smallest one.\n",
    "\n",
    "\n",
    "To speed this up, we'll store all the flights into a dictionary with the origin as a key and a list of flight destinations from that origin as the value. Then we can look up our options in O(1) time instead of O(N) time.\n"
   ]
  },
  {
   "cell_type": "code",
   "execution_count": null,
   "metadata": {},
   "outputs": [],
   "source": [
    "from collections import defaultdict\n",
    "\n",
    "def get_itinerary(flights, start):\n",
    "    # Store all the flights into a dictionary key:origin -> val:list of destinations\n",
    "    flight_map = defaultdict(list)\n",
    "    for origin, destination in flights:\n",
    "        flight_map[origin] += [destination]\n",
    "\n",
    "    def visit(flight_map, total_flights, current_itinerary):\n",
    "        # If our itinerary uses up all the flights, we're done here.\n",
    "        if len(current_itinerary) == total_flights + 1:\n",
    "            return [current_itinerary[:]]\n",
    "\n",
    "        last_stop = current_itinerary[-1]\n",
    "        # If we haven't used all the flights yet but we have no way\n",
    "        # of getting out of this airport, then we're stuck. Backtrack out.\n",
    "        if not flight_map[last_stop]:\n",
    "            return []\n",
    "\n",
    "        # Otherwise, let's try all the options out of the current stop recursively.\n",
    "        # We temporarily take them out of the mapping once we use them.\n",
    "        potential_itineraries = []\n",
    "        for i, flight in enumerate(flight_map[last_stop]):\n",
    "            flight_map[last_stop].pop(i)\n",
    "            current_itinerary.append(flight)\n",
    "            potential_itineraries.extend(visit(flight_map, total_flights, current_itinerary))\n",
    "            flight_map[last_stop].insert(i, flight)\n",
    "            current_itinerary.pop()\n",
    "        return potential_itineraries\n",
    "\n",
    "    valid_itineraries = visit(flight_map, len(flights), [start])\n",
    "    if valid_itineraries:\n",
    "        return sorted(valid_itineraries)[0]"
   ]
  }
 ],
 "metadata": {
  "kernelspec": {
   "display_name": "Python 3.9.13 64-bit (microsoft store)",
   "language": "python",
   "name": "python3"
  },
  "language_info": {
   "name": "python",
   "version": "3.9.13"
  },
  "orig_nbformat": 4,
  "vscode": {
   "interpreter": {
    "hash": "b2ddd62d3916e1314aeb2a2a333a2f9ca5e78cd48ba171057379eb2164a7ad87"
   }
  }
 },
 "nbformat": 4,
 "nbformat_minor": 2
}
