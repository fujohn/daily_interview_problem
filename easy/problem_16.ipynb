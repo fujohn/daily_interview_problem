{
 "cells": [
  {
   "cell_type": "markdown",
   "metadata": {},
   "source": [
    "This problem was asked by Twitter.\n",
    "\n",
    "You run an e-commerce website and want to record the last N order ids in a log. Implement a data structure to accomplish this, with the following API:\n",
    "\n",
    "record(order_id): adds the order_id to the log\n",
    "\n",
    "get_last(i): gets the ith last element from the log. i is guaranteed to be smaller than or equal to N."
   ]
  },
  {
   "cell_type": "markdown",
   "metadata": {},
   "source": [
    "# Answer"
   ]
  },
  {
   "cell_type": "code",
   "execution_count": null,
   "metadata": {},
   "outputs": [],
   "source": [
    "class Log(object):\n",
    "    def __init__(self, n):\n",
    "        self._log = []\n",
    "        self.n = n\n",
    "\n",
    "    def record(self, order_id):\n",
    "        if len(self._log) >= self.n:\n",
    "            self._log.pop(0) # removing the first item because it is no longer in the N last range\n",
    "        self._log.append(order_id)\n",
    "\n",
    "    def get_last(self, i):\n",
    "        return self._log[-i]"
   ]
  },
  {
   "cell_type": "markdown",
   "metadata": {},
   "source": [
    "# Solution"
   ]
  },
  {
   "cell_type": "markdown",
   "metadata": {},
   "source": [
    "This is one issue with this solution, however: when we have to pop off an element when the array is full, we have to move every other element down by 1. That means record takes O(N) time. How can we improve this?\n",
    "\n",
    "What we can do to avoid having to moving every element down by 1 is to keep a current index and move it up each time we record something. For get_last, we can simply take current - i to get the appropriate element. Now, both record and get_last should take constant time."
   ]
  },
  {
   "cell_type": "code",
   "execution_count": null,
   "metadata": {},
   "outputs": [],
   "source": [
    "class Log(object):\n",
    "    def __init__(self, n):\n",
    "        self.n = n\n",
    "        self._log = []\n",
    "        self._cur = 0\n",
    "\n",
    "    def record(self, order_id):\n",
    "        if len(self._log) == self.n:\n",
    "            self._log[self._cur] = order_id\n",
    "        else:\n",
    "            self._log.append(order_id)\n",
    "        self._cur = (self._cur + 1) % self.n\n",
    "\n",
    "    def get_last(self, i):\n",
    "        return self._log[self._cur - i]"
   ]
  },
  {
   "cell_type": "markdown",
   "metadata": {},
   "source": []
  }
 ],
 "metadata": {
  "kernelspec": {
   "display_name": "Python 3.9.13 64-bit (windows store)",
   "language": "python",
   "name": "python3"
  },
  "language_info": {
   "name": "python",
   "version": "3.9.13"
  },
  "orig_nbformat": 4,
  "vscode": {
   "interpreter": {
    "hash": "b2ddd62d3916e1314aeb2a2a333a2f9ca5e78cd48ba171057379eb2164a7ad87"
   }
  }
 },
 "nbformat": 4,
 "nbformat_minor": 2
}
