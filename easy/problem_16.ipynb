{
 "cells": [
  {
   "cell_type": "markdown",
   "metadata": {},
   "source": [
    "This problem was asked by Twitter.\n",
    "\n",
    "You run an e-commerce website and want to record the last N order ids in a log. Implement a data structure to accomplish this, with the following API:\n",
    "\n",
    "record(order_id): adds the order_id to the log\n",
    "\n",
    "get_last(i): gets the ith last element from the log. i is guaranteed to be smaller than or equal to N."
   ]
  },
  {
   "cell_type": "markdown",
   "metadata": {},
   "source": [
    "# Answer"
   ]
  },
  {
   "cell_type": "code",
   "execution_count": null,
   "metadata": {},
   "outputs": [],
   "source": [
    "def last_n_orders(N):\n",
    "    log = []\n",
    "    leading_idx = 0\n",
    "    trailing_idx = None"
   ]
  },
  {
   "cell_type": "markdown",
   "metadata": {},
   "source": [
    "# Solution"
   ]
  },
  {
   "cell_type": "markdown",
   "metadata": {},
   "source": []
  },
  {
   "cell_type": "code",
   "execution_count": null,
   "metadata": {},
   "outputs": [],
   "source": []
  },
  {
   "cell_type": "markdown",
   "metadata": {},
   "source": []
  }
 ],
 "metadata": {
  "kernelspec": {
   "display_name": "Python 3.9.13 64-bit (windows store)",
   "language": "python",
   "name": "python3"
  },
  "language_info": {
   "name": "python",
   "version": "3.9.13"
  },
  "orig_nbformat": 4,
  "vscode": {
   "interpreter": {
    "hash": "b2ddd62d3916e1314aeb2a2a333a2f9ca5e78cd48ba171057379eb2164a7ad87"
   }
  }
 },
 "nbformat": 4,
 "nbformat_minor": 2
}
