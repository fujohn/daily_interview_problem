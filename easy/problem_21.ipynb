{
 "cells": [
  {
   "cell_type": "markdown",
   "metadata": {},
   "source": [
    "This problem was asked by Snapchat.\n",
    "\n",
    "Given an array of time intervals (start, end) for classroom lectures (possibly overlapping), find the minimum number of rooms required.\n",
    "\n",
    "For example, given [(30, 75), (0, 50), (60, 150)], you should return 2."
   ]
  },
  {
   "cell_type": "markdown",
   "metadata": {},
   "source": [
    "# Answer"
   ]
  },
  {
   "cell_type": "code",
   "execution_count": 10,
   "metadata": {},
   "outputs": [],
   "source": [
    "# find how many intersections there are between each time range\n",
    "\n",
    "import itertools\n",
    "\n",
    "def rooms_needed(lst):\n",
    "    input_data = [' '.join(str(j) for j in i) for i in lst]\n",
    "    combinations = set()\n",
    "    rooms = 0\n",
    "    for c in itertools.combinations(input_data, 2):\n",
    "        print(c)\n",
    "        a = set(range(*(int(n) for n in c[0].split())))\n",
    "        print(a)\n",
    "        b = set(range(*(int(i) for i in c[1].split())))\n",
    "        print(b)\n",
    "        if not a.intersection(b) == set():\n",
    "            rooms += 1\n",
    "    return rooms if rooms > 0 else 1\n",
    "\n"
   ]
  },
  {
   "cell_type": "code",
   "execution_count": 11,
   "metadata": {},
   "outputs": [
    {
     "name": "stdout",
     "output_type": "stream",
     "text": [
      "('30 75', '0 50')\n",
      "{30, 31, 32, 33, 34, 35, 36, 37, 38, 39, 40, 41, 42, 43, 44, 45, 46, 47, 48, 49, 50, 51, 52, 53, 54, 55, 56, 57, 58, 59, 60, 61, 62, 63, 64, 65, 66, 67, 68, 69, 70, 71, 72, 73, 74}\n",
      "{0, 1, 2, 3, 4, 5, 6, 7, 8, 9, 10, 11, 12, 13, 14, 15, 16, 17, 18, 19, 20, 21, 22, 23, 24, 25, 26, 27, 28, 29, 30, 31, 32, 33, 34, 35, 36, 37, 38, 39, 40, 41, 42, 43, 44, 45, 46, 47, 48, 49}\n",
      "('30 75', '60 150')\n",
      "{30, 31, 32, 33, 34, 35, 36, 37, 38, 39, 40, 41, 42, 43, 44, 45, 46, 47, 48, 49, 50, 51, 52, 53, 54, 55, 56, 57, 58, 59, 60, 61, 62, 63, 64, 65, 66, 67, 68, 69, 70, 71, 72, 73, 74}\n",
      "{60, 61, 62, 63, 64, 65, 66, 67, 68, 69, 70, 71, 72, 73, 74, 75, 76, 77, 78, 79, 80, 81, 82, 83, 84, 85, 86, 87, 88, 89, 90, 91, 92, 93, 94, 95, 96, 97, 98, 99, 100, 101, 102, 103, 104, 105, 106, 107, 108, 109, 110, 111, 112, 113, 114, 115, 116, 117, 118, 119, 120, 121, 122, 123, 124, 125, 126, 127, 128, 129, 130, 131, 132, 133, 134, 135, 136, 137, 138, 139, 140, 141, 142, 143, 144, 145, 146, 147, 148, 149}\n",
      "('0 50', '60 150')\n",
      "{0, 1, 2, 3, 4, 5, 6, 7, 8, 9, 10, 11, 12, 13, 14, 15, 16, 17, 18, 19, 20, 21, 22, 23, 24, 25, 26, 27, 28, 29, 30, 31, 32, 33, 34, 35, 36, 37, 38, 39, 40, 41, 42, 43, 44, 45, 46, 47, 48, 49}\n",
      "{60, 61, 62, 63, 64, 65, 66, 67, 68, 69, 70, 71, 72, 73, 74, 75, 76, 77, 78, 79, 80, 81, 82, 83, 84, 85, 86, 87, 88, 89, 90, 91, 92, 93, 94, 95, 96, 97, 98, 99, 100, 101, 102, 103, 104, 105, 106, 107, 108, 109, 110, 111, 112, 113, 114, 115, 116, 117, 118, 119, 120, 121, 122, 123, 124, 125, 126, 127, 128, 129, 130, 131, 132, 133, 134, 135, 136, 137, 138, 139, 140, 141, 142, 143, 144, 145, 146, 147, 148, 149}\n"
     ]
    },
    {
     "data": {
      "text/plain": [
       "2"
      ]
     },
     "execution_count": 11,
     "metadata": {},
     "output_type": "execute_result"
    }
   ],
   "source": [
    "test = [(30, 75),(0,50), (60, 150)]\n",
    "rooms_needed(test)"
   ]
  },
  {
   "cell_type": "markdown",
   "metadata": {},
   "source": [
    "# Solution"
   ]
  },
  {
   "cell_type": "markdown",
   "metadata": {},
   "source": [
    "First, notice that the minimum number of classroom halls is the maximum number of overlapping intervals.\n",
    "\n",
    "Now let's consider the naive approach. We could go through each interval and check every other interval and see if it overlaps, keeping track of the largest number of overlapping intervals."
   ]
  },
  {
   "cell_type": "code",
   "execution_count": null,
   "metadata": {},
   "outputs": [],
   "source": [
    "def overlaps(a, b):\n",
    "    start_a, end_a = a\n",
    "    start_b, end_b = b\n",
    "    # It doesn't overlap if it's like this:\n",
    "    #   |start_a .... end_a|  <---> |start_b ... end_b|\n",
    "    # or like this:\n",
    "    #   |start_b .... end_b|  <---> |start_a ... end_a|\n",
    "    # so return not or either of these\n",
    "    return not (end_a < start_b or start_a > end_b)\n",
    "\n",
    "def max_overlapping(intervals):\n",
    "    current_max = 0\n",
    "    for interval in intervals:\n",
    "        num_overlapping = sum(overlaps(interval, other_interval)\n",
    "            for other_interval in intervals\n",
    "            if interval is not other_interval)\n",
    "        current_max = max(current_max, num_overlapping)\n",
    "    return current_max"
   ]
  },
  {
   "cell_type": "markdown",
   "metadata": {},
   "source": [
    "This would take O(n^2) time, since we're checking each interval pairwise. Can we do any better?\n",
    "\n",
    "One solution is to extract the start times and end times of all the intervals and sort them. Then we can start two pointers on each list, and consider the following:\n",
    "\n",
    "If the current start is before the current end, then we have a new overlap. Increment the start pointer.\n",
    "If the current start is after the current end, then our overlap closes. Increment the end pointer.\n",
    "All that's left to do is keep a couple variables to keep track of the maximum number of overlaps we've seen so far and the current number of overlaps."
   ]
  },
  {
   "cell_type": "code",
   "execution_count": null,
   "metadata": {},
   "outputs": [],
   "source": [
    "def max_overlapping(intervals):\n",
    "    starts = sorted(start for start, end in intervals)\n",
    "    ends = sorted(end for start, end in intervals)\n",
    "\n",
    "    current_max = 0\n",
    "    current_overlap = 0\n",
    "    i, j = 0, 0\n",
    "    while i < len(intervals) and j < len(intervals):\n",
    "        if starts[i] < ends[j]:\n",
    "            current_overlap += 1\n",
    "            current_max = max(current_max, current_overlap)\n",
    "            i += 1\n",
    "        else:\n",
    "            current_overlap -= 1\n",
    "            j += 1\n",
    "    return current_max"
   ]
  },
  {
   "cell_type": "markdown",
   "metadata": {},
   "source": [
    "This runs in O(n log n) time, since we have to sort the intervals."
   ]
  },
  {
   "cell_type": "markdown",
   "metadata": {},
   "source": []
  }
 ],
 "metadata": {
  "kernelspec": {
   "display_name": "Python 3.9.13 64-bit (windows store)",
   "language": "python",
   "name": "python3"
  },
  "language_info": {
   "codemirror_mode": {
    "name": "ipython",
    "version": 3
   },
   "file_extension": ".py",
   "mimetype": "text/x-python",
   "name": "python",
   "nbconvert_exporter": "python",
   "pygments_lexer": "ipython3",
   "version": "3.9.13"
  },
  "orig_nbformat": 4,
  "vscode": {
   "interpreter": {
    "hash": "b2ddd62d3916e1314aeb2a2a333a2f9ca5e78cd48ba171057379eb2164a7ad87"
   }
  }
 },
 "nbformat": 4,
 "nbformat_minor": 2
}
