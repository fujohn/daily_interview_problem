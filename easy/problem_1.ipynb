{
 "cells": [
  {
   "cell_type": "markdown",
   "metadata": {},
   "source": [
    "This problem was recently asked by Google.\n",
    "\n",
    "Given a list of numbers and a number k, return whether any two numbers from the list add up to k.\n",
    "\n",
    "For example, given [10, 15, 3, 7] and k of 17, return true since 10 + 7 is 17.\n",
    "\n",
    "Bonus: Can you do this in one pass?"
   ]
  },
  {
   "cell_type": "markdown",
   "metadata": {},
   "source": [
    "# Answer"
   ]
  },
  {
   "cell_type": "code",
   "execution_count": 18,
   "metadata": {},
   "outputs": [],
   "source": [
    "def k_possible(arr, k):\n",
    "    combo_found = False\n",
    "    for i in arr:\n",
    "        arr_less_i = arr.copy()\n",
    "        arr_less_i.remove(i)\n",
    "        print(\"with \" + str(i) + \", pair with \" + str(arr_less_i))\n",
    "        for j in arr_less_i:\n",
    "            print(\"testing \" + str(i) + ' and ' + str(j))\n",
    "            if i + j == k:\n",
    "                return True\n",
    "                \n",
    "\n",
    "    return combo_found\n"
   ]
  },
  {
   "cell_type": "code",
   "execution_count": 20,
   "metadata": {},
   "outputs": [
    {
     "name": "stdout",
     "output_type": "stream",
     "text": [
      "with 3, pair with [15, 10, 7]\n",
      "testing 3 and 15\n",
      "testing 3 and 10\n",
      "testing 3 and 7\n",
      "with 15, pair with [3, 10, 7]\n",
      "testing 15 and 3\n",
      "testing 15 and 10\n",
      "testing 15 and 7\n",
      "with 10, pair with [3, 15, 7]\n",
      "testing 10 and 3\n",
      "testing 10 and 15\n",
      "testing 10 and 7\n"
     ]
    },
    {
     "data": {
      "text/plain": [
       "True"
      ]
     },
     "execution_count": 20,
     "metadata": {},
     "output_type": "execute_result"
    }
   ],
   "source": [
    "k_possible([3,15,10,7], 17)"
   ]
  },
  {
   "cell_type": "markdown",
   "metadata": {},
   "source": [
    "# Solution"
   ]
  },
  {
   "cell_type": "code",
   "execution_count": 21,
   "metadata": {},
   "outputs": [],
   "source": [
    "# O(N^2) speed\n",
    "def two_sum(lst, k):\n",
    "    for i in range(len(lst)):\n",
    "        for j in range(len(lst)):\n",
    "            if i != j and lst[i] + lst[j] == k:\n",
    "                return True\n",
    "    return False"
   ]
  },
  {
   "cell_type": "code",
   "execution_count": null,
   "metadata": {},
   "outputs": [],
   "source": [
    "from bisect import bisect_left\n",
    "\n",
    "\n",
    "def two_sum(lst, K):\n",
    "    lst.sort()\n",
    "\n",
    "    for i in range(len(lst)):\n",
    "        target = K - lst[i]\n",
    "        j = binary_search(lst, target)\n",
    "\n",
    "        # Check that binary search found the target and that it's not in the same index\n",
    "        # as i. If it is in the same index, we can check lst[i + 1] and lst[i - 1] to see\n",
    "        #  if there's another number that's the same value as lst[i].\n",
    "        if j == -1:\n",
    "            continue\n",
    "        elif j != i:\n",
    "            return True\n",
    "        elif j + 1 < len(lst) and lst[j + 1] == target:\n",
    "            return True\n",
    "        elif j - 1 >= 0 and lst[j - 1] == target:\n",
    "            return True\n",
    "    return False\n",
    "\n",
    "def binary_search(lst, target):\n",
    "    lo = 0\n",
    "    hi = len(lst)\n",
    "    ind = bisect_left(lst, target, lo, hi)\n",
    "\n",
    "    if 0 <= ind < hi and lst[ind] == target:\n",
    "        return ind\n",
    "    return -1"
   ]
  }
 ],
 "metadata": {
  "kernelspec": {
   "display_name": "Python 3.8.3 ('base')",
   "language": "python",
   "name": "python3"
  },
  "language_info": {
   "codemirror_mode": {
    "name": "ipython",
    "version": 3
   },
   "file_extension": ".py",
   "mimetype": "text/x-python",
   "name": "python",
   "nbconvert_exporter": "python",
   "pygments_lexer": "ipython3",
   "version": "3.8.3"
  },
  "orig_nbformat": 4,
  "vscode": {
   "interpreter": {
    "hash": "dc75ad3c895cd2ba81c1222fac1608939b895cca0d74e30e206081794aee033f"
   }
  }
 },
 "nbformat": 4,
 "nbformat_minor": 2
}
