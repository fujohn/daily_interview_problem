{
 "cells": [
  {
   "cell_type": "markdown",
   "metadata": {},
   "source": [
    "This problem was asked by Google.\n",
    "\n",
    "Given two singly linked lists that intersect at some point, find the intersecting node. The lists are non-cyclical.\n",
    "\n",
    "For example, given A = 3 -> 7 -> 8 -> 10 and B = 99 -> 1 -> 8 -> 10, return the node with value 8.\n",
    "\n",
    "In this example, assume nodes with the same value are the exact same node objects.\n",
    "\n",
    "Do this in O(M + N) time (where M and N are the lengths of the lists) and constant space."
   ]
  },
  {
   "cell_type": "markdown",
   "metadata": {},
   "source": [
    "# Answer"
   ]
  },
  {
   "cell_type": "code",
   "execution_count": 1,
   "metadata": {},
   "outputs": [],
   "source": [
    "# O(N*M) approach\n",
    "def instersect(lst_a, lst_b):\n",
    "    for i in lst_a:\n",
    "        for j in lst_b:\n",
    "            if i == j:\n",
    "                return i"
   ]
  },
  {
   "cell_type": "code",
   "execution_count": 2,
   "metadata": {},
   "outputs": [],
   "source": [
    "# O(max(N,M)) space with O(N+M) time\n",
    "def instersect_2(lst_a, lst_b):\n",
    "    for i in lst_a:\n",
    "        if i in lst_b:\n",
    "            return i"
   ]
  },
  {
   "cell_type": "markdown",
   "metadata": {},
   "source": [
    "# Solution"
   ]
  },
  {
   "cell_type": "markdown",
   "metadata": {},
   "source": [
    "The above is not constant space. We can get around the space constraint with the following trick: first, get the length of both lists. Find the difference between the two, and then keep two pointers at the head of each list. Move the pointer of the larger list up by the difference, and then move the pointers forward in conjunction and check if they match."
   ]
  },
  {
   "cell_type": "code",
   "execution_count": null,
   "metadata": {},
   "outputs": [],
   "source": [
    "def length(head):\n",
    "    if not head:\n",
    "        return 0\n",
    "    return 1 + length(head.next) # Add the length by counting the nodes\n",
    "\n",
    "def intersection(a, b):\n",
    "    m, n = length(a), length(b)\n",
    "    cur_a, cur_b = a, b\n",
    "\n",
    "    if m > n:\n",
    "        for _ in range(m - n):\n",
    "            cur_a = cur_a.next\n",
    "    else:\n",
    "        for _ in range(n - m):\n",
    "            cur_b = cur_b.next\n",
    "\n",
    "    while cur_a != cur_b:\n",
    "        cur_a = cur_a.next\n",
    "        cur_b = cur_b.next\n",
    "    return cur_a"
   ]
  }
 ],
 "metadata": {
  "kernelspec": {
   "display_name": "Python 3.9.13 64-bit (windows store)",
   "language": "python",
   "name": "python3"
  },
  "language_info": {
   "codemirror_mode": {
    "name": "ipython",
    "version": 3
   },
   "file_extension": ".py",
   "mimetype": "text/x-python",
   "name": "python",
   "nbconvert_exporter": "python",
   "pygments_lexer": "ipython3",
   "version": "3.9.13"
  },
  "orig_nbformat": 4,
  "vscode": {
   "interpreter": {
    "hash": "b2ddd62d3916e1314aeb2a2a333a2f9ca5e78cd48ba171057379eb2164a7ad87"
   }
  }
 },
 "nbformat": 4,
 "nbformat_minor": 2
}
