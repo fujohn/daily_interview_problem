{
 "cells": [
  {
   "cell_type": "markdown",
   "metadata": {},
   "source": [
    "This problem was asked by Google.\n",
    "\n",
    "The power set of a set is the set of all its subsets. Write a function that, given a set, generates its power set.\n",
    "\n",
    "For example, given the set {1, 2, 3}, it should return {{}, {1}, {2}, {3}, {1, 2}, {1, 3}, {2, 3}, {1, 2, 3}}.\n",
    "\n",
    "You may also use a list or array to represent a set."
   ]
  },
  {
   "cell_type": "markdown",
   "metadata": {},
   "source": [
    "# Answer"
   ]
  },
  {
   "cell_type": "code",
   "execution_count": null,
   "metadata": {},
   "outputs": [],
   "source": [
    "# recursion\n",
    "def power_set(lst):\n",
    "    if len(lst) == 0:\n",
    "        return [[]]\n"
   ]
  },
  {
   "cell_type": "markdown",
   "metadata": {},
   "source": [
    "# Solution"
   ]
  },
  {
   "cell_type": "markdown",
   "metadata": {},
   "source": [
    "To gain some intuition about this problem, let's try some examples:\n",
    "\n",
    "- If we're given the empty set ({}), then the power set is a set with only the empty set in it: {{}}\n",
    "- If we're given a set with one element in it ({a}), then the power set is a set with two sets: an empty set and a set with the element in it: {{}, {a}}\n",
    "- If we're given a set with two elements in it ({a, b}), then the power is has four sets: {{}, {a}, {b}, {a, b}}\n",
    "\n",
    "What's the pattern?\n",
    "\n",
    "Notice that going from the empty set to {a}, that we still keep the empty set in our result and have another set with a in it. Similarly, when going from one element to two, we keep the same result set with one element ({}, {a}), but we also have a duplicate set with the b in it ({b}, {a ,b}).\n",
    "\n",
    "So we can use the following recursive formula to generate the power set:\n",
    "\n",
    "- If the input set is empty, return a set with an empty set in it\n",
    "- Otherwise, take an element from our set. Let's call it x.\n",
    "- Generate the power set of our input set without x. Let's call it result, for lack of a better name.\n",
    "- Return the union of name with name + x"
   ]
  },
  {
   "cell_type": "code",
   "execution_count": 1,
   "metadata": {},
   "outputs": [],
   "source": [
    "def power_set(s):\n",
    "    if not s:\n",
    "        return [[]]\n",
    "    result = power_set(s[1:])\n",
    "    return result + [subset + [s[0]] for subset in result]"
   ]
  },
  {
   "cell_type": "code",
   "execution_count": null,
   "metadata": {},
   "outputs": [],
   "source": []
  }
 ],
 "metadata": {
  "kernelspec": {
   "display_name": "Python 3.9.13 64-bit (microsoft store)",
   "language": "python",
   "name": "python3"
  },
  "language_info": {
   "codemirror_mode": {
    "name": "ipython",
    "version": 3
   },
   "file_extension": ".py",
   "mimetype": "text/x-python",
   "name": "python",
   "nbconvert_exporter": "python",
   "pygments_lexer": "ipython3",
   "version": "3.9.13"
  },
  "orig_nbformat": 4,
  "vscode": {
   "interpreter": {
    "hash": "b2ddd62d3916e1314aeb2a2a333a2f9ca5e78cd48ba171057379eb2164a7ad87"
   }
  }
 },
 "nbformat": 4,
 "nbformat_minor": 2
}
