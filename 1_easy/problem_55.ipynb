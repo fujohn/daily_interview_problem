{
 "cells": [
  {
   "cell_type": "markdown",
   "metadata": {},
   "source": [
    "This problem was asked by Microsoft.\n",
    "\n",
    "Implement a URL shortener with the following methods:\n",
    "\n",
    "shorten(url), which shortens the url into a six-character alphanumeric string, such as zLg6wl.\n",
    "restore(short), which expands the shortened string into the original url. If no such shortened string exists, return null.\n",
    "Hint: What if we enter the same URL twice?"
   ]
  },
  {
   "cell_type": "markdown",
   "metadata": {},
   "source": [
    "# Answer"
   ]
  },
  {
   "cell_type": "markdown",
   "metadata": {},
   "source": [
    "# Solution"
   ]
  },
  {
   "cell_type": "markdown",
   "metadata": {},
   "source": [
    "Clearly, we need a random string generator for this problem. If you're in an interview and you don't know how to generate a random string by heart, that's fine -- you can just assume you have access to a function that generate N random characters. In this case, we'll create a helper function called _generate_short that does it for us.\n",
    "\n",
    "The idea for this problem is to generate a shortened url and store it in a dictionary where the shortened url is the key and the actual url is the value. Then, when retrieving the actual url we can just look it up in the dictionary.\n",
    "\n",
    "However, we need to be careful in that we don't accidentally overwrite an existing entry when shortening a url. So what we'll do is continuously generate urls until we find one that doesn't already exist, and then use that one. We do that in the helper function generate_unused_short."
   ]
  },
  {
   "cell_type": "code",
   "execution_count": null,
   "metadata": {},
   "outputs": [],
   "source": [
    "import random\n",
    "import string\n",
    "\n",
    "class URLShortener:\n",
    "    def __init__(self):\n",
    "        self.short_to_url = {}\n",
    "\n",
    "    def _generate_short(self):\n",
    "        return ''.join(random.choice(string.ascii_uppercase + string.digits) for _ in range(6))\n",
    "\n",
    "    def _generate_unused_short(self):\n",
    "        t = self._generate_short()\n",
    "        while t in self.short_to_url:\n",
    "            t = self._generate_short()\n",
    "        return t\n",
    "\n",
    "    def shorten(self, url):\n",
    "        short = self._generate_unused_short()\n",
    "        self.short_to_url[short] = url\n",
    "        return short\n",
    "\n",
    "    def restore(self, short):\n",
    "        return self.short_to_url.get(short, None)"
   ]
  },
  {
   "cell_type": "markdown",
   "metadata": {},
   "source": [
    "We can improve this a bit. What if we shorten the same url twice? We could potentially re-use the existing shortened url, but we don't know how to access it without querying all values in our dict!\n",
    "\n",
    "So we can create a second dict that maps urls to shortened urls and update that appropriately. When we see a url we've seen before, we can just then just re-use that shortened url."
   ]
  },
  {
   "cell_type": "code",
   "execution_count": null,
   "metadata": {},
   "outputs": [],
   "source": [
    "import random\n",
    "import string\n",
    "\n",
    "class URLShortener:\n",
    "    def __init__(self):\n",
    "        self.short_to_url = {}\n",
    "        self.url_to_short = {}\n",
    "\n",
    "    def _generate_short(self):\n",
    "        return ''.join(random.choice(string.ascii_uppercase + string.digits) for _ in range(6))\n",
    "\n",
    "    def _generate_unused_short(self):\n",
    "        t = self._generate_short()\n",
    "        while t in self.short_to_url:\n",
    "            t = self._generate_short()\n",
    "        return t\n",
    "\n",
    "    def shorten(self, url):\n",
    "        short = self._generate_unused_short()\n",
    "        if url in self.url_to_short:\n",
    "            return self.url_to_short[url]\n",
    "        self.short_to_url[short] = url\n",
    "        self.url_to_short[url] = short\n",
    "        return short\n",
    "\n",
    "    def restore(self, short):\n",
    "        return self.short_to_url.get(short, None)"
   ]
  }
 ],
 "metadata": {
  "kernelspec": {
   "display_name": "Python 3.9.13 64-bit (microsoft store)",
   "language": "python",
   "name": "python3"
  },
  "language_info": {
   "name": "python",
   "version": "3.9.13"
  },
  "orig_nbformat": 4,
  "vscode": {
   "interpreter": {
    "hash": "b2ddd62d3916e1314aeb2a2a333a2f9ca5e78cd48ba171057379eb2164a7ad87"
   }
  }
 },
 "nbformat": 4,
 "nbformat_minor": 2
}
