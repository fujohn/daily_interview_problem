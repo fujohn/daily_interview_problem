{
 "cells": [
  {
   "cell_type": "markdown",
   "metadata": {},
   "source": [
    "This problem was asked by Amazon.\n",
    "\n",
    "Given a N by M matrix of numbers, print out the matrix in a clockwise spiral.\n",
    "\n",
    "For example, given the following matrix:"
   ]
  },
  {
   "cell_type": "code",
   "execution_count": null,
   "metadata": {},
   "outputs": [],
   "source": [
    "[[1,  2,  3,  4,  5],\n",
    " [6,  7,  8,  9,  10],\n",
    " [11, 12, 13, 14, 15],\n",
    " [16, 17, 18, 19, 20]]"
   ]
  },
  {
   "cell_type": "markdown",
   "metadata": {},
   "source": [
    "You should print out the following:"
   ]
  },
  {
   "cell_type": "code",
   "execution_count": null,
   "metadata": {},
   "outputs": [],
   "source": [
    "1\n",
    "2\n",
    "3\n",
    "4\n",
    "5\n",
    "10\n",
    "15\n",
    "20\n",
    "19\n",
    "18\n",
    "17\n",
    "16\n",
    "11\n",
    "6\n",
    "7\n",
    "8\n",
    "9\n",
    "14\n",
    "13\n",
    "12"
   ]
  },
  {
   "cell_type": "markdown",
   "metadata": {},
   "source": [
    "# Answer"
   ]
  },
  {
   "cell_type": "code",
   "execution_count": null,
   "metadata": {},
   "outputs": [],
   "source": [
    "def spiral_print(matrix):\n",
    "    items = len(matrix) * len(matrix[0])\n",
    "    printed_position = []\n",
    "    x, y = 0\n",
    "    while items > 0:\n",
    "        print(matrix[x][y])\n",
    "        printed_position.append[x,y]\n",
    "        items -= 1\n",
    "        \n"
   ]
  },
  {
   "cell_type": "markdown",
   "metadata": {},
   "source": [
    "# Solution"
   ]
  },
  {
   "cell_type": "markdown",
   "metadata": {},
   "source": [
    "As you might imagine, there are many possible solutions for this problem. Ours involves keeping track of our current position and direction. As we move along and print each value, we set it to None. Then once we've either hit the edge or another None value (indicating we've seen it before), we change directions counterclockwise and keep on going.\n",
    "\n",
    "We use an enum to define the directions, and some helper functions next_direction, next_position, and should_change_direction to help us lay out the code cleanly.\n",
    "\n",
    "This takes O(M * N) time."
   ]
  },
  {
   "cell_type": "code",
   "execution_count": 1,
   "metadata": {},
   "outputs": [],
   "source": [
    "UP = 0\n",
    "RIGHT = 1\n",
    "DOWN = 2\n",
    "LEFT = 3\n",
    "\n",
    "DIRECTIONS = [RIGHT, DOWN, LEFT, UP]\n",
    "\n",
    "def next_direction(direction):\n",
    "    if direction == RIGHT:\n",
    "        return DOWN\n",
    "    elif direction == DOWN:\n",
    "        return LEFT\n",
    "    elif direction == LEFT:\n",
    "        return UP\n",
    "    elif direction == UP:\n",
    "        return RIGHT\n",
    "\n",
    "def next_position(position, direction):\n",
    "    if direction == RIGHT:\n",
    "        return (position[0], position[1] + 1)\n",
    "    elif direction == DOWN:\n",
    "        return (position[0] + 1, position[1])\n",
    "    elif direction == LEFT:\n",
    "        return (position[0], position[1] - 1)\n",
    "    elif direction == UP:\n",
    "        return (position[0] - 1, position[1])\n",
    "\n",
    "def should_change_direction(M, r, c):\n",
    "    in_bounds_r = 0 <= r < len(M)\n",
    "    in_bounds_c = 0 <= c < len(M[0])\n",
    "    return not in_bounds_r or not in_bounds_c or M[r][c] is None\n",
    "\n",
    "def matrix_spiral_print(M):\n",
    "    remaining = len(M) * len(M[0])\n",
    "    current_direction = RIGHT\n",
    "    current_position = (0, 0)\n",
    "    while remaining > 0:\n",
    "        r, c = current_position\n",
    "        print(M[r][c])\n",
    "        M[r][c] = None\n",
    "        remaining -= 1\n",
    "\n",
    "        possible_next_position = next_position(current_position, current_direction)\n",
    "        if should_change_direction(M, possible_next_position[0], possible_next_position[1]):\n",
    "            current_direction = next_direction(current_direction)\n",
    "            current_position = next_position(current_position, current_direction)\n",
    "        else:\n",
    "            current_position = possible_next_position"
   ]
  },
  {
   "cell_type": "code",
   "execution_count": null,
   "metadata": {},
   "outputs": [],
   "source": []
  }
 ],
 "metadata": {
  "kernelspec": {
   "display_name": "Python 3.9.13 64-bit (microsoft store)",
   "language": "python",
   "name": "python3"
  },
  "language_info": {
   "codemirror_mode": {
    "name": "ipython",
    "version": 3
   },
   "file_extension": ".py",
   "mimetype": "text/x-python",
   "name": "python",
   "nbconvert_exporter": "python",
   "pygments_lexer": "ipython3",
   "version": "3.9.13"
  },
  "orig_nbformat": 4,
  "vscode": {
   "interpreter": {
    "hash": "b2ddd62d3916e1314aeb2a2a333a2f9ca5e78cd48ba171057379eb2164a7ad87"
   }
  }
 },
 "nbformat": 4,
 "nbformat_minor": 2
}
