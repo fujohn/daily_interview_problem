{
 "cells": [
  {
   "cell_type": "markdown",
   "metadata": {},
   "source": [
    "This problem was asked by Google.\n",
    "\n",
    "A unival tree (which stands for \"universal value\") is a tree where all nodes under it have the same value.\n",
    "\n",
    "Given the root to a binary tree, count the number of unival subtrees.\n",
    "\n",
    "For example, the following tree has 5 unival subtrees:"
   ]
  },
  {
   "cell_type": "code",
   "execution_count": null,
   "metadata": {},
   "outputs": [],
   "source": [
    "   0\n",
    "  / \\\n",
    " 1   0\n",
    "    / \\\n",
    "   1   0\n",
    "  / \\\n",
    " 1   1"
   ]
  },
  {
   "cell_type": "markdown",
   "metadata": {},
   "source": [
    "# Answer"
   ]
  },
  {
   "cell_type": "code",
   "execution_count": null,
   "metadata": {},
   "outputs": [],
   "source": [
    "def is_unival(root):\n",
    "    return unival_helper(root, root.value)\n",
    "\n",
    "def unival_helper(root, value):\n",
    "    if root is None:\n",
    "        return True\n",
    "    if root.value == value:\n",
    "        return unival_helper(root.left, value) and unival_helper(root.right, value)\n",
    "    return False\n",
    "\n",
    "def count_unival_subtrees(root):\n",
    "    if root is None:\n",
    "        return 0\n",
    "    left = count_unival_subtrees(root.left)\n",
    "    right = count_unival_subtrees(root.right)\n",
    "    return 1 + left + right if is_unival(root) else left + right"
   ]
  },
  {
   "cell_type": "markdown",
   "metadata": {},
   "source": [
    "# Solution"
   ]
  },
  {
   "cell_type": "markdown",
   "metadata": {},
   "source": [
    "However, this runs in O(n^2) time. For each node of the tree, we’re evaluating each node in its subtree again as well. We can improve the runtime by starting at the leaves of the tree, and keeping track of the unival subtree count and value as we percolate back up. This should evaluate each node only once, making it run in O(n) time."
   ]
  },
  {
   "cell_type": "code",
   "execution_count": null,
   "metadata": {},
   "outputs": [],
   "source": [
    "def count_unival_subtrees(root):\n",
    "    count, _ = helper(root)\n",
    "    return count\n",
    "\n",
    "# Also returns number of unival subtrees, and whether it is itself a unival subtree.\n",
    "def helper(root):\n",
    "    if root is None:\n",
    "        return 0, True\n",
    "\n",
    "    left_count, is_left_unival = helper(root.left)\n",
    "    right_count, is_right_unival = helper(root.right)\n",
    "    total_count = left_count + right_count\n",
    "\n",
    "    if is_left_unival and is_right_unival:\n",
    "        if root.left is not None and root.value != root.left.value:\n",
    "            return total_count, False\n",
    "        if root.right is not None and root.value != root.right.value:\n",
    "            return total_count, False\n",
    "        return total_count + 1, True\n",
    "    return total_count, False"
   ]
  }
 ],
 "metadata": {
  "kernelspec": {
   "display_name": "Python 3.9.13 64-bit (windows store)",
   "language": "python",
   "name": "python3"
  },
  "language_info": {
   "codemirror_mode": {
    "name": "ipython",
    "version": 3
   },
   "file_extension": ".py",
   "mimetype": "text/x-python",
   "name": "python",
   "nbconvert_exporter": "python",
   "pygments_lexer": "ipython3",
   "version": "3.9.13"
  },
  "orig_nbformat": 4,
  "vscode": {
   "interpreter": {
    "hash": "b2ddd62d3916e1314aeb2a2a333a2f9ca5e78cd48ba171057379eb2164a7ad87"
   }
  }
 },
 "nbformat": 4,
 "nbformat_minor": 2
}
