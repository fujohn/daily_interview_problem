{
 "cells": [
  {
   "cell_type": "markdown",
   "metadata": {},
   "source": [
    "This problem was asked by Google.\n",
    "\n",
    "Given a singly linked list and an integer k, remove the kth last element from the list. k is guaranteed to be smaller than the length of the list.\n",
    "\n",
    "The list is very long, so making more than one pass is prohibitively expensive.\n",
    "\n",
    "Do this in constant space and in one pass."
   ]
  },
  {
   "cell_type": "markdown",
   "metadata": {},
   "source": [
    "# Answer"
   ]
  },
  {
   "cell_type": "code",
   "execution_count": 2,
   "metadata": {},
   "outputs": [],
   "source": [
    "def nth_last_node(linked_list, n):\n",
    "    n_last_pointer = None\n",
    "    tail_pointer = linked_list.head_node\n",
    "    counter = 1\n",
    "\n",
    "    while tail_pointer != None:\n",
    "        tail_pointer = tail_pointer.get_next_node()\n",
    "        counter += 1\n",
    "        if counter >= n + 1:\n",
    "            if n_last_pointer is None:\n",
    "                n_last_pointer = linked_list.head_node\n",
    "            else: \n",
    "                n_last_pointer = n_last_pointer.get_next_node()\n",
    "    return n_last_pointer"
   ]
  },
  {
   "cell_type": "markdown",
   "metadata": {},
   "source": [
    "# Solution"
   ]
  },
  {
   "cell_type": "markdown",
   "metadata": {},
   "source": [
    "If we didn't have the constraint of needing only to make one pass, this problem would be trivial to implement. We could simply iterate over the whole list to find out the total length N of the list, and then restart from the beginning and iterate N - k steps and remove the node there. That would take constant space as well.\n",
    "\n",
    "However, given that we have the constraint of needing to make only one pass, we have to find some way of getting the N - kth node in the list in one shot.\n",
    "\n",
    "What we can do, then, is this:\n",
    "\n",
    "- Set up two pointers at the head of the list (let's call them fast and slow)\n",
    "- Move fast up by k\n",
    "- Move both fast and slow together until fast reaches the end of the list\n",
    "- Now slow is at the N - kth node, remove it\n",
    "\n",
    "That only makes one pass and is constant time. The code should look something like this:"
   ]
  },
  {
   "cell_type": "code",
   "execution_count": 3,
   "metadata": {},
   "outputs": [
    {
     "name": "stdout",
     "output_type": "stream",
     "text": [
      "[1, 2, 3, 4, 5]\n",
      "[1, 2, 4, 5]\n"
     ]
    }
   ],
   "source": [
    "class Node:\n",
    "    def __init__(self, val, next=None):\n",
    "        self.val = val\n",
    "        self.next = next\n",
    "\n",
    "    def __str__(self):\n",
    "        current_node = self\n",
    "        result = []\n",
    "        while current_node:\n",
    "            result.append(current_node.val)\n",
    "            current_node = current_node.next\n",
    "        return str(result)\n",
    "\n",
    "def remove_kth_from_linked_list(head, k):\n",
    "    slow, fast = head, head\n",
    "    for i in range(k):\n",
    "        fast = fast.next\n",
    "\n",
    "    prev = None\n",
    "    while fast:\n",
    "        prev = slow\n",
    "        slow = slow.next\n",
    "        fast = fast.next\n",
    "\n",
    "    prev.next = slow.next\n",
    "\n",
    "head = Node(1, Node(2, Node(3, Node(4, Node(5)))))\n",
    "print(head)\n",
    "remove_kth_from_linked_list(head, 3)\n",
    "print(head)"
   ]
  },
  {
   "cell_type": "code",
   "execution_count": null,
   "metadata": {},
   "outputs": [],
   "source": []
  }
 ],
 "metadata": {
  "kernelspec": {
   "display_name": "Python 3.9.13 64-bit (microsoft store)",
   "language": "python",
   "name": "python3"
  },
  "language_info": {
   "codemirror_mode": {
    "name": "ipython",
    "version": 3
   },
   "file_extension": ".py",
   "mimetype": "text/x-python",
   "name": "python",
   "nbconvert_exporter": "python",
   "pygments_lexer": "ipython3",
   "version": "3.9.13"
  },
  "orig_nbformat": 4,
  "vscode": {
   "interpreter": {
    "hash": "b2ddd62d3916e1314aeb2a2a333a2f9ca5e78cd48ba171057379eb2164a7ad87"
   }
  }
 },
 "nbformat": 4,
 "nbformat_minor": 2
}
