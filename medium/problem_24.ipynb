{
 "cells": [
  {
   "cell_type": "markdown",
   "metadata": {},
   "source": [
    "This problem was asked by Google.\n",
    "\n",
    "Implement locking in a binary tree. A binary tree node can be locked or unlocked only if all of its descendants or ancestors are not locked.\n",
    "\n",
    "Design a binary tree node class with the following methods:\n",
    "\n",
    "- is_locked, which returns whether the node is locked\n",
    "- lock, which attempts to lock the node. If it cannot be locked, then it should return false. Otherwise, it should lock it and return true.\n",
    "- unlock, which unlocks the node. If it cannot be unlocked, then it should return false. Otherwise, it should unlock it and return true.\n",
    "\n",
    "\n",
    "You may augment the node to add parent pointers or any other property you would like. You may assume the class is used in a single-threaded program, so there is no need for actual locks or mutexes. Each method should run in O(h), where h is the height of the tree."
   ]
  },
  {
   "cell_type": "markdown",
   "metadata": {},
   "source": [
    "# Answer"
   ]
  },
  {
   "cell_type": "code",
   "execution_count": null,
   "metadata": {},
   "outputs": [],
   "source": []
  },
  {
   "cell_type": "markdown",
   "metadata": {},
   "source": [
    "# Solution"
   ]
  },
  {
   "cell_type": "markdown",
   "metadata": {},
   "source": [
    "A relatively easy way to implement this would be to augment each node with an is_locked attribute as well as a parent pointer. We can then implement the methods in a straightforward manner:\n",
    "\n",
    "is_locked simply returns the node's attribute\n",
    "lock searches the node's children and parents for a true is_locked attribute. If it is set to true on any of them, then return false. Otherwise, set the current node's is_locked to true and return true.\n",
    "unlock simply changes the node's attribute to false. If we want to be safe, then we should search the node's children and parents as in lock to make sure we can actually unlock the node, but that shouldn't ever happen.\n",
    "While is_locked is O(1) time, lock and unlock will take O(m + h) time where m is the number of nodes in the node's subtree (since we have to traverse through all its descendants) and h is the height of the node (since we have to traverse through the node's ancestors).\n",
    "\n",
    "We can improve the performance of lock and unlock by adding another field to the node that keeps tracks of the count of locked descendants. That way, we can immediately see whether any of its descendants are locked. This will reduce our lock and unlock functions to only O(h). We can maintain this field by doing the following:\n",
    "\n",
    "When locking, if the locking succeeds, traverse the node's ancestors and increment each one's count\n",
    "When unlocking, traverse the node's ancestors and decrement each one's count\n",
    "The code will look something like the following:\n",
    "\n",
    "Now, is_locked is still O(1), but lock and unlock are both O(h) instead of O(m + h).\n",
    "\n"
   ]
  },
  {
   "cell_type": "code",
   "execution_count": null,
   "metadata": {},
   "outputs": [],
   "source": [
    "class LockingBinaryTreeNode(object):\n",
    "    def __init__(self, val, left=None, right=None, parent=None):\n",
    "        self.val = val\n",
    "        self.left = left\n",
    "        self.right = right\n",
    "        self.parent = parent\n",
    "        self.is_locked = False\n",
    "        self.locked_descendants_count = 0\n",
    "\n",
    "    def _can_lock_or_unlock(self):\n",
    "        if self.locked_descendants_count > 0:\n",
    "            return False\n",
    "\n",
    "        cur = self.parent\n",
    "        while cur:\n",
    "            if cur.is_locked:\n",
    "                return False\n",
    "            cur = cur.parent\n",
    "        return True\n",
    "\n",
    "    def is_locked(self):\n",
    "        return self.is_locked\n",
    "\n",
    "\n",
    "    def lock(self):\n",
    "        if self.is_locked:\n",
    "            return False # node already locked\n",
    "\n",
    "        if not self._can_lock_or_unlock():\n",
    "            return False\n",
    "\n",
    "        # Not locked, so update is_locked and increment count in all ancestors\n",
    "        self.is_locked = True\n",
    "\n",
    "        cur = self.parent\n",
    "        while cur:\n",
    "            cur.locked_descendants_count += 1\n",
    "            cur = cur.parent\n",
    "        return True\n",
    "\n",
    "    def unlock(self):\n",
    "        if not self.is_locked:\n",
    "            return False # node already unlocked\n",
    "\n",
    "        if not self._can_lock_or_unlock():\n",
    "            return False\n",
    "\n",
    "        self.is_locked = False\n",
    "\n",
    "        # Update count in all ancestors\n",
    "        cur = self.parent\n",
    "        while cur:\n",
    "            cur.locked_descendants_count -= 1\n",
    "            cur = cur.parent\n",
    "        return True"
   ]
  }
 ],
 "metadata": {
  "kernelspec": {
   "display_name": "Python 3.9.13 64-bit (microsoft store)",
   "language": "python",
   "name": "python3"
  },
  "language_info": {
   "name": "python",
   "version": "3.9.13"
  },
  "orig_nbformat": 4,
  "vscode": {
   "interpreter": {
    "hash": "b2ddd62d3916e1314aeb2a2a333a2f9ca5e78cd48ba171057379eb2164a7ad87"
   }
  }
 },
 "nbformat": 4,
 "nbformat_minor": 2
}
