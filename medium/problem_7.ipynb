{
 "cells": [
  {
   "cell_type": "markdown",
   "metadata": {},
   "source": [
    "This problem was asked by Facebook.\n",
    "\n",
    "Given the mapping a = 1, b = 2, ... z = 26, and an encoded message, count the number of ways it can be decoded.\n",
    "\n",
    "For example, the message '111' would give 3, since it could be decoded as 'aaa', 'ka', and 'ak'.\n",
    "\n",
    "You can assume that the messages are decodable. For example, '001' is not allowed."
   ]
  },
  {
   "cell_type": "markdown",
   "metadata": {},
   "source": [
    "# Answer"
   ]
  },
  {
   "cell_type": "code",
   "execution_count": 9,
   "metadata": {},
   "outputs": [
    {
     "name": "stdout",
     "output_type": "stream",
     "text": [
      "{'a': 1, 'b': 2, 'c': 3, 'd': 4, 'e': 5, 'f': 6, 'g': 7, 'h': 8, 'i': 9, 'j': 10, 'k': 11, 'l': 12, 'm': 13, 'n': 14, 'o': 15, 'p': 16, 'q': 17, 'r': 18, 's': 19, 't': 20, 'u': 21, 'v': 22, 'w': 23, 'x': 24, 'y': 25, 'z': 26}\n"
     ]
    }
   ],
   "source": [
    "code_map = {chr(96 + l): l for l in range(1,27)}\n",
    "\n",
    "print(code_map)"
   ]
  },
  {
   "cell_type": "code",
   "execution_count": 13,
   "metadata": {},
   "outputs": [],
   "source": [
    "# need a recursive function to decode 1 or 2 letter combos after the first iteration\n",
    "def decode_count(message):\n",
    "    if (len(message) == 1 and message[0] != '0') or (len(message) == 0):\n",
    "        return 1\n",
    "    elif message[0] == '0':\n",
    "        return 0\n",
    "    elif int(message[:2]) <= 26: # if first 2 combos can yield a letter, consider 2 routes\n",
    "        return decode_count(message[1:]) + decode_count(message[2:])\n",
    "    else: # if not, then consider only 1 route after the first letter\n",
    "        return decode_count(message[1:])\n"
   ]
  },
  {
   "cell_type": "code",
   "execution_count": 14,
   "metadata": {},
   "outputs": [
    {
     "data": {
      "text/plain": [
       "3"
      ]
     },
     "execution_count": 14,
     "metadata": {},
     "output_type": "execute_result"
    }
   ],
   "source": [
    "decode_count('111')"
   ]
  },
  {
   "cell_type": "markdown",
   "metadata": {},
   "source": [
    "# Solution"
   ]
  },
  {
   "cell_type": "markdown",
   "metadata": {},
   "source": [
    "The above code is mostly correct as it uses recursion (it may miss edge cases like 602).\n",
    "\n",
    "However, this solution is not very efficient. Every branch calls itself recursively twice, so our runtime is O(2^n). We can do better by using dynamic programming.\n",
    "\n",
    "All the following code does is repeat the same computation as above except starting from the base case and building up the solution. Since each iteration takes O(1), the whole algorithm now takes O(n)."
   ]
  },
  {
   "cell_type": "code",
   "execution_count": null,
   "metadata": {},
   "outputs": [],
   "source": [
    "from collections import defaultdict\n",
    "\n",
    "def num_encodings(s):\n",
    "    # On lookup, this hashmap returns a default value of 0 if the key doesn't exist\n",
    "    # cache[i] gives us # of ways to encode the substring s[i:]\n",
    "    cache = defaultdict(int)\n",
    "    cache[len(s)] = 1 # Empty string is 1 valid encoding\n",
    "\n",
    "    for i in reversed(range(len(s))):\n",
    "        if s[i].startswith('0'):\n",
    "            cache[i] = 0\n",
    "        elif i == len(s) - 1:\n",
    "            cache[i] = 1\n",
    "        else:\n",
    "            if int(s[i:i + 2]) <= 26:\n",
    "                cache[i] = cache[i + 2]\n",
    "            cache[i] += cache[i + 1]\n",
    "    return cache[0]"
   ]
  }
 ],
 "metadata": {
  "kernelspec": {
   "display_name": "Python 3.9.13 64-bit (windows store)",
   "language": "python",
   "name": "python3"
  },
  "language_info": {
   "codemirror_mode": {
    "name": "ipython",
    "version": 3
   },
   "file_extension": ".py",
   "mimetype": "text/x-python",
   "name": "python",
   "nbconvert_exporter": "python",
   "pygments_lexer": "ipython3",
   "version": "3.9.13"
  },
  "orig_nbformat": 4,
  "vscode": {
   "interpreter": {
    "hash": "b2ddd62d3916e1314aeb2a2a333a2f9ca5e78cd48ba171057379eb2164a7ad87"
   }
  }
 },
 "nbformat": 4,
 "nbformat_minor": 2
}
