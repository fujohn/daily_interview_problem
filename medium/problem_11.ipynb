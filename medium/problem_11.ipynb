{
 "cells": [
  {
   "cell_type": "markdown",
   "metadata": {},
   "source": [
    "This problem was asked by Twitter.\n",
    "\n",
    "Implement an autocomplete system. That is, given a query string s and a set of all possible query strings, return all strings in the set that have s as a prefix.\n",
    "\n",
    "For example, given the query string de and the set of strings [dog, deer, deal], return [deer, deal].\n",
    "\n",
    "Hint: Try preprocessing the dictionary i"
   ]
  },
  {
   "cell_type": "markdown",
   "metadata": {},
   "source": [
    "# Answer"
   ]
  },
  {
   "cell_type": "code",
   "execution_count": 1,
   "metadata": {},
   "outputs": [],
   "source": [
    "def autocomplete(WORDS, s):\n",
    "    results = set()\n",
    "    for word in WORDS:\n",
    "        if word.startswith(s):\n",
    "            results.add(word)\n",
    "    return results"
   ]
  },
  {
   "cell_type": "code",
   "execution_count": 3,
   "metadata": {},
   "outputs": [
    {
     "ename": "TypeError",
     "evalue": "'function' object is not subscriptable",
     "output_type": "error",
     "traceback": [
      "\u001b[1;31m---------------------------------------------------------------------------\u001b[0m",
      "\u001b[1;31mTypeError\u001b[0m                                 Traceback (most recent call last)",
      "\u001b[1;32mc:\\Users\\johnf\\OneDrive\\Desktop\\coding\\practices\\daily_interview_problem\\medium\\problem_11.ipynb Cell 4\u001b[0m in \u001b[0;36m<cell line: 1>\u001b[1;34m()\u001b[0m\n\u001b[1;32m----> <a href='vscode-notebook-cell:/c%3A/Users/johnf/OneDrive/Desktop/coding/practices/daily_interview_problem/medium/problem_11.ipynb#W3sZmlsZQ%3D%3D?line=0'>1</a>\u001b[0m \u001b[39mprint\u001b[39m(autocomplete[[\u001b[39m'\u001b[39;49m\u001b[39mdog\u001b[39;49m\u001b[39m'\u001b[39;49m, \u001b[39m'\u001b[39;49m\u001b[39mdeer\u001b[39;49m\u001b[39m'\u001b[39;49m, \u001b[39m'\u001b[39;49m\u001b[39mdeal\u001b[39;49m\u001b[39m'\u001b[39;49m], \u001b[39m'\u001b[39;49m\u001b[39mde\u001b[39;49m\u001b[39m'\u001b[39;49m])\n",
      "\u001b[1;31mTypeError\u001b[0m: 'function' object is not subscriptable"
     ]
    }
   ],
   "source": [
    "print(autocomplete[['dog', 'deer', 'deal'], 'de'])"
   ]
  },
  {
   "cell_type": "markdown",
   "metadata": {},
   "source": [
    "# Solution"
   ]
  },
  {
   "cell_type": "markdown",
   "metadata": {},
   "source": [
    "This runs in O(N) time, where N is the number of words in the dictionary. Let's think about making this more efficient. We can preprocess the words, but what data structure would be best for our problem?\n",
    "\n",
    "If we pre-sort the list, we could use binary search to find the first word that includes our prefix and then the last, and return everything in between.\n",
    "\n",
    "Alternatively, we could use a tree for this. Not a binary tree, but a tree where each child represents one character of the alphabet. For example, let's say we had the words 'a' and 'dog' in our dictionary. Then the tree would look like this:\n",
    "\n",
    "  x\n",
    " / \\\n",
    "a   d\n",
    "     \\\n",
    "      o\n",
    "       \\\n",
    "        g\n",
    "Then, to find all words beginning with 'do', we could start at the root, go into the 'd' child, and then the 'o', child, and gather up all the words under there. We would also some sort of terminal value to mark whether or not 'do' is actually a word in our dictionary or not. This data structure is known as a trie.\n",
    "\n",
    "So the idea is to preprocess the dictionary into this tree, and then when we search for a prefix, go into the trie and get all the words under that prefix node and return those. While the worst-case runtime would still be O(n) if all the search results have that prefix, if the words are uniformly distributed across the alphabet, it should be much faster on average since we no longer have to evaluate words that don't start with our prefix."
   ]
  },
  {
   "cell_type": "code",
   "execution_count": 4,
   "metadata": {},
   "outputs": [
    {
     "ename": "NameError",
     "evalue": "name 'words' is not defined",
     "output_type": "error",
     "traceback": [
      "\u001b[1;31m---------------------------------------------------------------------------\u001b[0m",
      "\u001b[1;31mNameError\u001b[0m                                 Traceback (most recent call last)",
      "\u001b[1;32mc:\\Users\\johnf\\OneDrive\\Desktop\\coding\\practices\\daily_interview_problem\\medium\\problem_11.ipynb Cell 7\u001b[0m in \u001b[0;36m<cell line: 35>\u001b[1;34m()\u001b[0m\n\u001b[0;32m     <a href='vscode-notebook-cell:/c%3A/Users/johnf/OneDrive/Desktop/coding/practices/daily_interview_problem/medium/problem_11.ipynb#W6sZmlsZQ%3D%3D?line=31'>32</a>\u001b[0m         \u001b[39mreturn\u001b[39;00m result\n\u001b[0;32m     <a href='vscode-notebook-cell:/c%3A/Users/johnf/OneDrive/Desktop/coding/practices/daily_interview_problem/medium/problem_11.ipynb#W6sZmlsZQ%3D%3D?line=33'>34</a>\u001b[0m trie \u001b[39m=\u001b[39m Trie()\n\u001b[1;32m---> <a href='vscode-notebook-cell:/c%3A/Users/johnf/OneDrive/Desktop/coding/practices/daily_interview_problem/medium/problem_11.ipynb#W6sZmlsZQ%3D%3D?line=34'>35</a>\u001b[0m \u001b[39mfor\u001b[39;00m word \u001b[39min\u001b[39;00m words:\n\u001b[0;32m     <a href='vscode-notebook-cell:/c%3A/Users/johnf/OneDrive/Desktop/coding/practices/daily_interview_problem/medium/problem_11.ipynb#W6sZmlsZQ%3D%3D?line=35'>36</a>\u001b[0m     trie\u001b[39m.\u001b[39minsert(word)\n\u001b[0;32m     <a href='vscode-notebook-cell:/c%3A/Users/johnf/OneDrive/Desktop/coding/practices/daily_interview_problem/medium/problem_11.ipynb#W6sZmlsZQ%3D%3D?line=37'>38</a>\u001b[0m \u001b[39mdef\u001b[39;00m \u001b[39mautocomplete\u001b[39m(s):\n",
      "\u001b[1;31mNameError\u001b[0m: name 'words' is not defined"
     ]
    }
   ],
   "source": [
    "ENDS_HERE = '__ENDS_HERE'\n",
    "\n",
    "class Trie(object):\n",
    "    def __init__(self):\n",
    "        self._trie = {}\n",
    "\n",
    "    def insert(self, text):\n",
    "        trie = self._trie\n",
    "        for char in text:\n",
    "            if char not in trie:\n",
    "                trie[char] = {}\n",
    "            trie = trie[char]\n",
    "        trie[ENDS_HERE] = True\n",
    "\n",
    "    def elements(self, prefix):\n",
    "        d = self._trie\n",
    "        for char in prefix:\n",
    "            if char in d:\n",
    "                d = d[char]\n",
    "            else:\n",
    "                return []\n",
    "        return self._elements(d)\n",
    "\n",
    "    def _elements(self, d):\n",
    "        result = []\n",
    "        for c, v in d.items():\n",
    "            if c == ENDS_HERE:\n",
    "                subresult = ['']\n",
    "            else:\n",
    "                subresult = [c + s for s in self._elements(v)]\n",
    "            result.extend(subresult)\n",
    "        return result\n",
    "\n",
    "trie = Trie()\n",
    "for word in words:\n",
    "    trie.insert(word)\n",
    "\n",
    "def autocomplete(s):\n",
    "    suffixes = trie.elements(s)\n",
    "    return [s + w for w in suffixes]"
   ]
  }
 ],
 "metadata": {
  "kernelspec": {
   "display_name": "Python 3.9.13 64-bit (windows store)",
   "language": "python",
   "name": "python3"
  },
  "language_info": {
   "codemirror_mode": {
    "name": "ipython",
    "version": 3
   },
   "file_extension": ".py",
   "mimetype": "text/x-python",
   "name": "python",
   "nbconvert_exporter": "python",
   "pygments_lexer": "ipython3",
   "version": "3.9.13"
  },
  "orig_nbformat": 4,
  "vscode": {
   "interpreter": {
    "hash": "b2ddd62d3916e1314aeb2a2a333a2f9ca5e78cd48ba171057379eb2164a7ad87"
   }
  }
 },
 "nbformat": 4,
 "nbformat_minor": 2
}
