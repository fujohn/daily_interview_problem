{
 "cells": [
  {
   "cell_type": "markdown",
   "metadata": {},
   "source": [
    "This problem was asked by Amazon.\n",
    "\n",
    "Given an integer k and a string s, find the length of the longest substring that contains at most k distinct characters.\n",
    "\n",
    "For example, given s = \"abcba\" and k = 2, the longest substring with k distinct characters is \"bcb\"."
   ]
  },
  {
   "cell_type": "markdown",
   "metadata": {},
   "source": [
    "# Answer"
   ]
  },
  {
   "cell_type": "code",
   "execution_count": 41,
   "metadata": {},
   "outputs": [],
   "source": [
    "def longest_substring(s, k):\n",
    "    max_length = 1\n",
    "    substring = None\n",
    "    for i in range(len(s)):\n",
    "        n_unique = [s[i]]\n",
    "        for j in range(i+1, len(s)):\n",
    "            if len(n_unique) > k:\n",
    "                break\n",
    "            if s[j] not in n_unique:\n",
    "                n_unique.append(s[j])\n",
    "            if j - i > max_length and len(n_unique) <= k:\n",
    "                max_length = j - i\n",
    "                substring = s[i:j+1]\n",
    "    return substring"
   ]
  },
  {
   "cell_type": "code",
   "execution_count": 37,
   "metadata": {},
   "outputs": [
    {
     "data": {
      "text/plain": [
       "2"
      ]
     },
     "execution_count": 37,
     "metadata": {},
     "output_type": "execute_result"
    }
   ],
   "source": [
    "len(['j', 'k'])"
   ]
  },
  {
   "cell_type": "code",
   "execution_count": 44,
   "metadata": {},
   "outputs": [
    {
     "name": "stdout",
     "output_type": "stream",
     "text": [
      "starting with 0\n",
      "from 0 checking 1\n",
      "n_unique =  ['a']\n",
      "from 0 checking 2\n",
      "n_unique =  ['a', 'b']\n",
      "substring is now abc\n",
      "from 0 checking 3\n",
      "n_unique =  ['a', 'b', 'c']\n",
      "substring is now abcb\n",
      "from 0 checking 4\n",
      "n_unique =  ['a', 'b', 'c']\n",
      "substring is now abcba\n",
      "from 0 checking 5\n",
      "n_unique =  ['a', 'b', 'c']\n",
      "starting with 1\n",
      "from 1 checking 2\n",
      "n_unique =  ['b']\n",
      "from 1 checking 3\n",
      "n_unique =  ['b', 'c']\n",
      "from 1 checking 4\n",
      "n_unique =  ['b', 'c']\n",
      "from 1 checking 5\n",
      "n_unique =  ['b', 'c', 'a']\n",
      "starting with 2\n",
      "from 2 checking 3\n",
      "n_unique =  ['c']\n",
      "from 2 checking 4\n",
      "n_unique =  ['c', 'b']\n",
      "from 2 checking 5\n",
      "n_unique =  ['c', 'b', 'a']\n",
      "starting with 3\n",
      "from 3 checking 4\n",
      "n_unique =  ['b']\n",
      "from 3 checking 5\n",
      "n_unique =  ['b', 'a']\n",
      "starting with 4\n",
      "from 4 checking 5\n",
      "n_unique =  ['a']\n",
      "starting with 5\n"
     ]
    },
    {
     "data": {
      "text/plain": [
       "'abcba'"
      ]
     },
     "execution_count": 44,
     "metadata": {},
     "output_type": "execute_result"
    }
   ],
   "source": [
    "longest_substring('abcbad', 3)"
   ]
  },
  {
   "cell_type": "markdown",
   "metadata": {},
   "source": [
    "# Solution"
   ]
  },
  {
   "cell_type": "markdown",
   "metadata": {},
   "source": []
  }
 ],
 "metadata": {
  "kernelspec": {
   "display_name": "Python 3.9.13 64-bit (windows store)",
   "language": "python",
   "name": "python3"
  },
  "language_info": {
   "codemirror_mode": {
    "name": "ipython",
    "version": 3
   },
   "file_extension": ".py",
   "mimetype": "text/x-python",
   "name": "python",
   "nbconvert_exporter": "python",
   "pygments_lexer": "ipython3",
   "version": "3.9.13"
  },
  "orig_nbformat": 4,
  "vscode": {
   "interpreter": {
    "hash": "b2ddd62d3916e1314aeb2a2a333a2f9ca5e78cd48ba171057379eb2164a7ad87"
   }
  }
 },
 "nbformat": 4,
 "nbformat_minor": 2
}
