{
 "cells": [
  {
   "cell_type": "markdown",
   "metadata": {},
   "source": [
    "This problem was asked by Amazon.\n",
    "\n",
    "Given an integer k and a string s, find the length of the longest substring that contains at most k distinct characters.\n",
    "\n",
    "For example, given s = \"abcba\" and k = 2, the longest substring with k distinct characters is \"bcb\"."
   ]
  },
  {
   "cell_type": "markdown",
   "metadata": {},
   "source": [
    "# Answer"
   ]
  },
  {
   "cell_type": "code",
   "execution_count": 2,
   "metadata": {},
   "outputs": [],
   "source": [
    "def longest_substring(s, k):\n",
    "    max_length = 1\n",
    "    substring = ''\n",
    "    for i in range(len(s)):\n",
    "        if len(substring) > len(s[i:]):\n",
    "            break\n",
    "        n_unique = [s[i]]\n",
    "        for j in range(i+1, len(s)):\n",
    "            if len(n_unique) > k:\n",
    "                break\n",
    "            if s[j] not in n_unique:\n",
    "                n_unique.append(s[j])\n",
    "            if j - i > max_length and len(n_unique) <= k:\n",
    "                max_length = j - i\n",
    "                substring = s[i:j+1]\n",
    "    return substring\n",
    "# O(N^2 * K)"
   ]
  },
  {
   "cell_type": "code",
   "execution_count": 3,
   "metadata": {},
   "outputs": [
    {
     "data": {
      "text/plain": [
       "'bcb'"
      ]
     },
     "execution_count": 3,
     "metadata": {},
     "output_type": "execute_result"
    }
   ],
   "source": [
    "longest_substring('adbcb', 2)"
   ]
  },
  {
   "cell_type": "markdown",
   "metadata": {},
   "source": [
    "# Solution"
   ]
  },
  {
   "cell_type": "markdown",
   "metadata": {},
   "source": [
    "We can improve this by instead keeping a running window of our longest substring. We'll keep a dictionary that maps characters to the index of their last occurrence. Then, as we iterate over the string, we'll check the size of the dictionary. If it's larger than k, then it means our window is too big, so we have to pop the smallest item in the dictionary and recompute the bounds. If, when we add a character to the dictionary and it doesn't go over k, then we're safe -- the dictionary hasn't been filled up yet or it's a character we've seen before.\n",
    "\n"
   ]
  },
  {
   "cell_type": "code",
   "execution_count": 4,
   "metadata": {},
   "outputs": [],
   "source": [
    "def longest_substring_with_k_distinct_characters(s, k):\n",
    "    if k == 0:\n",
    "        return 0\n",
    "\n",
    "    # Keep a running window\n",
    "    bounds = (0, 0)\n",
    "    h = {}\n",
    "    max_length = 0\n",
    "    for i, char in enumerate(s):\n",
    "        h[char] = i\n",
    "        if len(h) <= k:\n",
    "            new_lower_bound = bounds[0] # lower bound remains the same\n",
    "        else:\n",
    "            # otherwise, pop last occurring char\n",
    "            key_to_pop = min(h, key=h.get)\n",
    "            new_lower_bound = h.pop(key_to_pop) + 1\n",
    "\n",
    "        bounds = (new_lower_bound, bounds[1] + 1)\n",
    "        max_length = max(max_length, bounds[1] - bounds[0])\n",
    "\n",
    "    return max_length\n",
    "\n",
    "# This takes O(n * k) time and O(k) space."
   ]
  },
  {
   "cell_type": "code",
   "execution_count": null,
   "metadata": {},
   "outputs": [],
   "source": []
  }
 ],
 "metadata": {
  "kernelspec": {
   "display_name": "Python 3.9.13 64-bit (windows store)",
   "language": "python",
   "name": "python3"
  },
  "language_info": {
   "codemirror_mode": {
    "name": "ipython",
    "version": 3
   },
   "file_extension": ".py",
   "mimetype": "text/x-python",
   "name": "python",
   "nbconvert_exporter": "python",
   "pygments_lexer": "ipython3",
   "version": "3.9.13"
  },
  "orig_nbformat": 4,
  "vscode": {
   "interpreter": {
    "hash": "b2ddd62d3916e1314aeb2a2a333a2f9ca5e78cd48ba171057379eb2164a7ad87"
   }
  }
 },
 "nbformat": 4,
 "nbformat_minor": 2
}
