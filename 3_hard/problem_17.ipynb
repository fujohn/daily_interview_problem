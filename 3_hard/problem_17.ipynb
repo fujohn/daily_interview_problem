{
 "cells": [
  {
   "cell_type": "markdown",
   "metadata": {},
   "source": [
    "This problem was asked by Google.\n",
    "\n",
    "Suppose we represent our file system by a string in the following manner:\n",
    "\n",
    "The string \"dir\\n\\tsubdir1\\n\\tsubdir2\\n\\t\\tfile.ext\" represents:"
   ]
  },
  {
   "cell_type": "code",
   "execution_count": null,
   "metadata": {},
   "outputs": [],
   "source": [
    "dir\n",
    "    subdir1\n",
    "        file1.ext\n",
    "        subsubdir1\n",
    "    subdir2\n",
    "        subsubdir2\n",
    "            file2.ext"
   ]
  },
  {
   "cell_type": "markdown",
   "metadata": {},
   "source": [
    "The directory dir contains two sub-directories subdir1 and subdir2. subdir1 contains a file file1.ext and an empty second-level sub-directory subsubdir1. subdir2 contains a second-level sub-directory subsubdir2 containing a file file2.ext.\n",
    "\n",
    "We are interested in finding the longest (number of characters) absolute path to a file within our file system. For example, in the second example above, the longest absolute path is \"dir/subdir2/subsubdir2/file2.ext\", and its length is 32 (not including the double quotes).\n",
    "\n",
    "Given a string representing the file system in the above format, return the length of the longest absolute path to a file in the abstracted file system. If there is no file in the system, return 0.\n",
    "\n",
    "Note:\n",
    "\n",
    "The name of a file contains at least a period and an extension.\n",
    "\n",
    "The name of a directory or sub-directory will not contain a period."
   ]
  },
  {
   "cell_type": "markdown",
   "metadata": {},
   "source": [
    "# Answer"
   ]
  },
  {
   "cell_type": "code",
   "execution_count": null,
   "metadata": {},
   "outputs": [],
   "source": [
    "def build_fs(input):\n",
    "    fs = {}\n",
    "    files = input.split('\\n')\n",
    "\n",
    "    current_path = []\n",
    "    for f in files:\n",
    "        indentation = 0\n",
    "        while '\\t' in f[:2]:\n",
    "            indentation += 1\n",
    "            f = f[1:]\n",
    "\n",
    "        current_node = fs\n",
    "        for subdir in current_path[:indentation]:\n",
    "            current_node = current_node[subdir]\n",
    "\n",
    "        if '.' in f:\n",
    "            current_node[f] = True\n",
    "        else:\n",
    "            current_node[f] = {}\n",
    "\n",
    "        current_path = current_path[:indentation]\n",
    "        current_path.append(f)\n",
    "\n",
    "    return fs\n",
    "\n",
    "def longest_path(root):\n",
    "    paths = []\n",
    "    for key, node in root.items():\n",
    "        if node == True:\n",
    "            paths.append(key)\n",
    "        else:\n",
    "            paths.append(key + '/' + longest_path(node))\n",
    "    # filter out unfinished paths\n",
    "    paths = [path for path in paths if '.' in path]\n",
    "    if paths:\n",
    "        return max(paths, key=lambda path:len(path))\n",
    "    else:\n",
    "        return ''\n",
    "\n",
    "def longest_absolute_path(s):\n",
    "    return len(longest_path(build_fs(s)))"
   ]
  },
  {
   "cell_type": "markdown",
   "metadata": {},
   "source": [
    "# Solution"
   ]
  },
  {
   "cell_type": "markdown",
   "metadata": {},
   "source": [
    "View code above^^\n",
    "\n",
    "To achieve this, we can first split the string by the newline character, meaning each item in our array represents a file or directory. Then, we create an empty dictionary to represent our parsed file system and traverse the file system on each entry. We keep track of the last path we've seen so far in current_path because we may need to return to some level in that path, depending on the number of tabs. Once we are at the correct place to put down the new directory or file, we check the name for a . and set the correct value to either True (if file) or {} (if directory).\n",
    "\n",
    "After we've constructed a native representation of the file system, we can write a fairly straightforward recursive function that takes the current root, recursively calculates the longest_path of all the subdirectories and files under the root, and returns the longest one. Remember that since we specifically want the longest path to a file to discard any paths that do not have a . in them. And if there are no paths starting at this root, then we can simply return the empty string.\n",
    "\n",
    "Now that the hard part is done, we just need to put the two together:\n",
    "This runs in O(n), since we iterate over the input string twice to build the file system, and then in the worst case we go through the string again to compute the longest path."
   ]
  },
  {
   "cell_type": "code",
   "execution_count": null,
   "metadata": {},
   "outputs": [],
   "source": []
  }
 ],
 "metadata": {
  "language_info": {
   "name": "python"
  },
  "orig_nbformat": 4
 },
 "nbformat": 4,
 "nbformat_minor": 2
}
