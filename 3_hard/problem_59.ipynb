{
 "cells": [
  {
   "cell_type": "markdown",
   "metadata": {},
   "source": [
    "This problem was asked by Google.\n",
    "\n",
    "Implement a file syncing algorithm for two computers over a low-bandwidth network. What if we know the files in the two computers are mostly the same?\n"
   ]
  },
  {
   "cell_type": "markdown",
   "metadata": {},
   "source": [
    "# Answer"
   ]
  },
  {
   "cell_type": "markdown",
   "metadata": {},
   "source": [
    "# Solution"
   ]
  },
  {
   "cell_type": "markdown",
   "metadata": {},
   "source": [
    "If the files on the two computers are radically different, then we have basically no choice: we must make the sender send over the whole file. We can compress it to save some space, but that's about it.\n",
    "\n",
    "We can do a bit more if the files are similar. Ideally, we would like to just send over the deltas, i.e. the differences between the two files. However, the problem here is we don't know what's different, so we don't know what to send! So we're back to sending over the whole file.\n",
    "\n",
    "We know that we can definitely send over deltas -- after all, it's the basis of utilities like rsync, and is also widely used for patching games and software! How is it done?\n",
    "\n",
    "The basic idea is to have the receiver compute a small checksum or fingerprint for non-overlapping blocks of the file it has, and send that over. Then, the sender can just verify, using the same process, which blocks are different, and then send only the data required for those. Now, if the files are identical, we no longer need to send the whole file! We only need to send the fingerprints for the file over, which should be tiny.\n",
    "\n",
    "Sounds great! But there's one problem: what if the files are of different lengths? Or worse: they're different lengths, and the appended section is at the beginning of the file. Then all the checksums will be off, and we'll need to send over the whole file again, even if we just appended one section!\n",
    "\n",
    "The solution to this problem is to change how we're matching blocks. After the receiver sends all the checksums, the sender can compute the checksum at every possible offset to find one that matches. If it does, then we just send all the data from the last point to the beginning of the current block, as well as some sort of signal that the block matched.\n",
    "\n",
    "P.S. This algorithm is how the rsync utility is implemented, and was first described here. It's surprisingly short and easy to read! A few things in the paper that aren't mentioned here:\n",
    "\n",
    "- Rolling checksums for efficiently computing checksums at every possible offset.\n",
    "- Using a weak (rolling) checksum and a strong one for efficiency\n",
    "- Storing the checksums in a hashtable for easier lookup"
   ]
  },
  {
   "cell_type": "markdown",
   "metadata": {},
   "source": []
  }
 ],
 "metadata": {
  "kernelspec": {
   "display_name": "Python 3.9.13 64-bit (microsoft store)",
   "language": "python",
   "name": "python3"
  },
  "language_info": {
   "name": "python",
   "version": "3.9.13"
  },
  "orig_nbformat": 4,
  "vscode": {
   "interpreter": {
    "hash": "b2ddd62d3916e1314aeb2a2a333a2f9ca5e78cd48ba171057379eb2164a7ad87"
   }
  }
 },
 "nbformat": 4,
 "nbformat_minor": 2
}
