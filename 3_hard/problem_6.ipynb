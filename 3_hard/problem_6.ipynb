{
 "cells": [
  {
   "cell_type": "markdown",
   "metadata": {},
   "source": [
    "This problem was asked by Google.\n",
    "\n",
    "An XOR linked list is a more memory efficient doubly linked list. Instead of each node holding next and prev fields, it holds a field named both, which is an XOR of the next node and the previous node. Implement an XOR linked list; it has an add(element) which adds the element to the end, and a get(index) which returns the node at index.\n",
    "\n",
    "If using a language that has no pointers (such as Python), you can assume you have access to get_pointer and dereference_pointer functions that converts between nodes and memory addresses."
   ]
  },
  {
   "cell_type": "markdown",
   "metadata": {},
   "source": [
    "# Answer"
   ]
  },
  {
   "cell_type": "code",
   "execution_count": null,
   "metadata": {},
   "outputs": [],
   "source": []
  },
  {
   "cell_type": "markdown",
   "metadata": {},
   "source": [
    "# Solution"
   ]
  },
  {
   "cell_type": "markdown",
   "metadata": {},
   "source": [
    "For the head, both will just be the address of next, and if it's the tail, it should just be the address of prev. And intermediate nodes should have an XOR of next and prev.\n",
    "\n",
    "Here's an example XOR linked list which meets the above conditions:\n",
    "\n",
    "A    <->    B    <->    C    <->    D\n",
    "\n",
    "B         A ⊕ C       B ⊕ D         C\n",
    "Let's work through get first, assuming that the above conditions are maintained. Then, given a node, to go to the next node, we have to XOR the current node's both with the previous node's address. And to handle getting the next node from the head, we would initialize the previous node's address as 0.\n",
    "\n",
    "So in the above example, A's both is B which when XOR'd with 0 would become B. Then B's both is A ⊕ C, which when XOR'd with A becomes C, etc.\n",
    "\n",
    "To implement add, we would need to update current tail's both to be XOR'd by its current both the new node's memory address. Then the new node's both would just point to the memory address of the current tail. Finally, we'd update the current tail to be equal to the new node.\n",
    "\n",
    "add runs in O(1) time and get runs in O(N) time."
   ]
  },
  {
   "cell_type": "code",
   "execution_count": null,
   "metadata": {},
   "outputs": [],
   "source": [
    "import ctypes\n",
    "\n",
    "\n",
    "# This is hacky. It's a data structure for C, not python.\n",
    "class Node(object):\n",
    "    def __init__(self, val):\n",
    "        self.val = val\n",
    "        self.both = 0\n",
    "\n",
    "\n",
    "class XorLinkedList(object):\n",
    "    def __init__(self):\n",
    "        self.head = self.tail = None\n",
    "        self.__nodes = [] # This is to prevent garbage collection\n",
    "\n",
    "    def add(self, node):\n",
    "        if self.head is None:\n",
    "            self.head = self.tail = node\n",
    "        else:\n",
    "            self.tail.both = id(node) ^ self.tail.both\n",
    "            node.both = id(self.tail)\n",
    "            self.tail = node\n",
    "\n",
    "        # Without this line, Python thinks there is no way to reach nodes between\n",
    "        # head and tail.\n",
    "        self.__nodes.append(node)\n",
    "\n",
    "\n",
    "    def get(self, index):\n",
    "        prev_id = 0\n",
    "        node = self.head\n",
    "        for i in range(index):\n",
    "            next_id = prev_id ^ node.both\n",
    "\n",
    "            if next_id:\n",
    "                prev_id = id(node)\n",
    "                node = _get_obj(next_id)\n",
    "            else:\n",
    "                raise IndexError('Linked list index out of range')\n",
    "        return node\n",
    "\n",
    "\n",
    "def _get_obj(id):\n",
    "    return ctypes.cast(id, ctypes.py_object).value"
   ]
  }
 ],
 "metadata": {
  "kernelspec": {
   "display_name": "Python 3.9.13 64-bit (microsoft store)",
   "language": "python",
   "name": "python3"
  },
  "language_info": {
   "name": "python",
   "version": "3.9.13"
  },
  "orig_nbformat": 4,
  "vscode": {
   "interpreter": {
    "hash": "b2ddd62d3916e1314aeb2a2a333a2f9ca5e78cd48ba171057379eb2164a7ad87"
   }
  }
 },
 "nbformat": 4,
 "nbformat_minor": 2
}
