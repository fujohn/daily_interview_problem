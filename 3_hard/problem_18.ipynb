{
 "cells": [
  {
   "cell_type": "markdown",
   "metadata": {},
   "source": [
    "This problem was asked by Google.\n",
    "\n",
    "Given an array of integers and a number k, where 1 <= k <= length of the array, compute the maximum values of each subarray of length k.\n",
    "\n",
    "For example, given array = [10, 5, 2, 7, 8, 7] and k = 3, we should get: [10, 7, 8, 8], since:\n",
    "\n",
    "- 10 = max(10, 5, 2)\n",
    "- 7 = max(5, 2, 7)\n",
    "- 8 = max(2, 7, 8)\n",
    "- 8 = max(7, 8, 7)\n",
    "\n",
    "Do this in O(n) time and O(k) space. You can modify the input array in-place and you do not need to store the results. You can simply print them out as you compute them."
   ]
  },
  {
   "cell_type": "markdown",
   "metadata": {},
   "source": [
    "# Answer"
   ]
  },
  {
   "cell_type": "code",
   "execution_count": null,
   "metadata": {},
   "outputs": [],
   "source": [
    "def max_of_subarrays(lst, k):\n",
    "    for i in range(len(lst) - k + 1):\n",
    "        print(max(lst[i:i + k]))"
   ]
  },
  {
   "cell_type": "markdown",
   "metadata": {},
   "source": [
    "# Solution"
   ]
  },
  {
   "cell_type": "markdown",
   "metadata": {},
   "source": []
  },
  {
   "cell_type": "code",
   "execution_count": null,
   "metadata": {},
   "outputs": [],
   "source": [
    "from collections import deque\n",
    "\n",
    "def max_of_subarrays(lst, k):\n",
    "    q = deque()\n",
    "    for i in range(k):\n",
    "        while q and lst[i] >= lst[q[-1]]:\n",
    "            q.pop()\n",
    "        q.append(i)\n",
    "\n",
    "    # Loop invariant: q is a list of indices where their corresponding values are in descending order.\n",
    "    for i in range(k, len(lst)):\n",
    "        print(lst[q[0]])\n",
    "        while q and q[0] <= i - k:\n",
    "            q.popleft()\n",
    "        while q and lst[i] >= lst[q[-1]]:\n",
    "            q.pop()\n",
    "        q.append(i)\n",
    "    print(lst[q[0]])"
   ]
  }
 ],
 "metadata": {
  "language_info": {
   "name": "python"
  },
  "orig_nbformat": 4
 },
 "nbformat": 4,
 "nbformat_minor": 2
}
