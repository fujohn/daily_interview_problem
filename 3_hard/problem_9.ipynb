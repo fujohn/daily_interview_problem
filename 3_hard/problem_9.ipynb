{
 "cells": [
  {
   "cell_type": "markdown",
   "metadata": {},
   "source": [
    "This problem was asked by Airbnb.\n",
    "\n",
    "Given a list of integers, write a function that returns the largest sum of non-adjacent numbers. Numbers can be 0 or negative.\n",
    "\n",
    "For example, [2, 4, 6, 2, 5] should return 13, since we pick 2, 6, and 5. [5, 1, 1, 5] should return 10, since we pick 5 and 5.\n",
    "\n",
    "Follow-up: Can you do this in O(N) time and constant space?"
   ]
  },
  {
   "cell_type": "markdown",
   "metadata": {},
   "source": [
    "# Answer"
   ]
  },
  {
   "cell_type": "code",
   "execution_count": 45,
   "metadata": {},
   "outputs": [],
   "source": [
    "def largest_sum(lst):\n",
    "    if len(lst) == 0:\n",
    "        return 0\n",
    "    if len(lst) == 1:\n",
    "        return lst[0]\n",
    "    \n",
    "    rob = 0\n",
    "    not_rob = 0\n",
    "        \n",
    "    for i in range(len(lst)):\n",
    "        print('checking', lst[i])\n",
    "        tmp = rob # store value if robbed previous iteration\n",
    "        rob = max(rob, not_rob + lst[i])\n",
    "        not_rob = max(not_rob, tmp)\n",
    "        print('if i robbed the last one or temp:', tmp)\n",
    "        print('if I rob this one and not the previous one:', rob)\n",
    "        print('if i choose not to rob, is robbing the previous better?', not_rob)\n",
    "        # print('for loop restarts')\n",
    "    return max(rob, not_rob)\n"
   ]
  },
  {
   "cell_type": "code",
   "execution_count": 46,
   "metadata": {},
   "outputs": [
    {
     "name": "stdout",
     "output_type": "stream",
     "text": [
      "checking 2\n",
      "if i robbed the last one or temp: 0\n",
      "if I rob this one and not the previous one: 2\n",
      "if i choose not to rob, is robbing the previous better? 0\n",
      "checking 4\n",
      "if i robbed the last one or temp: 2\n",
      "if I rob this one and not the previous one: 4\n",
      "if i choose not to rob, is robbing the previous better? 2\n",
      "checking 6\n",
      "if i robbed the last one or temp: 4\n",
      "if I rob this one and not the previous one: 8\n",
      "if i choose not to rob, is robbing the previous better? 4\n",
      "checking 2\n",
      "if i robbed the last one or temp: 8\n",
      "if I rob this one and not the previous one: 8\n",
      "if i choose not to rob, is robbing the previous better? 8\n",
      "checking 5\n",
      "if i robbed the last one or temp: 8\n",
      "if I rob this one and not the previous one: 13\n",
      "if i choose not to rob, is robbing the previous better? 8\n"
     ]
    },
    {
     "data": {
      "text/plain": [
       "13"
      ]
     },
     "execution_count": 46,
     "metadata": {},
     "output_type": "execute_result"
    }
   ],
   "source": [
    "lst = [2,4,6,2,5]\n",
    "largest_sum(lst)"
   ]
  },
  {
   "cell_type": "markdown",
   "metadata": {},
   "source": [
    "# Solution"
   ]
  },
  {
   "cell_type": "markdown",
   "metadata": {},
   "source": []
  }
 ],
 "metadata": {
  "kernelspec": {
   "display_name": "Python 3.9.13 64-bit (windows store)",
   "language": "python",
   "name": "python3"
  },
  "language_info": {
   "codemirror_mode": {
    "name": "ipython",
    "version": 3
   },
   "file_extension": ".py",
   "mimetype": "text/x-python",
   "name": "python",
   "nbconvert_exporter": "python",
   "pygments_lexer": "ipython3",
   "version": "3.9.13"
  },
  "orig_nbformat": 4,
  "vscode": {
   "interpreter": {
    "hash": "b2ddd62d3916e1314aeb2a2a333a2f9ca5e78cd48ba171057379eb2164a7ad87"
   }
  }
 },
 "nbformat": 4,
 "nbformat_minor": 2
}
