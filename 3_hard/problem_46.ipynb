{
 "cells": [
  {
   "cell_type": "markdown",
   "metadata": {},
   "source": [
    "This problem was asked by Amazon.\n",
    "\n",
    "Given a string, find the longest palindromic contiguous substring. If there are more than one with the maximum length, return any one.\n",
    "\n",
    "For example, the longest palindromic substring of \"aabcdcb\" is \"bcdcb\". The longest palindromic substring of \"bananas\" is \"anana\"."
   ]
  },
  {
   "cell_type": "markdown",
   "metadata": {},
   "source": [
    "# Answer"
   ]
  },
  {
   "cell_type": "markdown",
   "metadata": {},
   "source": [
    "# Solution"
   ]
  },
  {
   "cell_type": "markdown",
   "metadata": {},
   "source": [
    "We can compute the longest palindromic contiguous substring in O(N^3) using brute force. We can just iterate over each substring of the array and check if it's a palindrome."
   ]
  },
  {
   "cell_type": "code",
   "execution_count": 1,
   "metadata": {},
   "outputs": [],
   "source": [
    "def is_palindrome(s):\n",
    "    return s[::-1] == s\n",
    "\n",
    "def longest_palindrome(s):\n",
    "    longest = ''\n",
    "    for i in range(len(s) - 1):\n",
    "        for j in range(1, len(s)):\n",
    "            substring = s[i:j]\n",
    "            if is_palindrome(substring) and len(substring) > len(longest):\n",
    "                longest = substring\n",
    "    return longest"
   ]
  },
  {
   "cell_type": "markdown",
   "metadata": {},
   "source": [
    "We can improve the running time of this algorithm by using dynamic programming to store any repeated computations. Let's keep an N by N table A, where N is the length of the input string. Then, at each index A[i][j] we'll keep whether or not the substring made from s[i:j] is a palindrome. We'll make use of the following relationships:\n",
    "\n",
    "All strings of length 1 are palindromes\n",
    "s is a palindrome if s[1:-1] is a palindrome and the first and last character of s are the same\n",
    "So, when we fill up our table, we can do the following:\n",
    "\n",
    "First, set each item along the diagonal `A[i:i] to true, since strings of length 1 are always palindromes\n",
    "Then, check A[i:i+1] and set it to true if A[i] == A[i + 1] and false otherwise (check all strings of length 2)\n",
    "Finally, iterate over the matrix from top to bottom, left to right, only examining the upper diagonal. Note that it doesn't make sense for j to be smaller than i, so that's why we only need to deal with half of the matrix. Set A[i][j] to true only if A[i + 1][j - 1] is true and A[i] == A[j].\n",
    "Keep track of the longest palindromic substring we've seen so far.\n",
    "Let's go through an example with the word \"bananas\".\n",
    "\n",
    "b\ta\tn\ta\tn\ta\ts\n",
    "\n",
    "b\tt\tf\tf\tf\tf\tf\tf\n",
    "\n",
    "a\t\tt\tf\tt\tf\tt\tf\n",
    "\n",
    "n\t\t\tt\tf\tt\tf\tf\n",
    "\n",
    "a\t\t\t\tt\tf\tf\tf\n",
    "\n",
    "n\t\t\t\t\tt\tf\tf\n",
    "\n",
    "a\t\t\t\t\t\tt\tf\n",
    "\n",
    "s\t\t\t\t\t\t\tt\n",
    "We can see from this table that the longest palindromic substring here is \"ananas\", since A[1:5] is the longest substring that's true in the table."
   ]
  },
  {
   "cell_type": "code",
   "execution_count": null,
   "metadata": {},
   "outputs": [],
   "source": [
    "def longest_palindrome(s):\n",
    "    if not s:\n",
    "        return ''\n",
    "\n",
    "    longest = s[0]\n",
    "    A = [[None for _ in range(len(s))] for _ in range(len(s))]\n",
    "\n",
    "    # Set all substrings of length 1 to be true\n",
    "    for i in range(len(s)):\n",
    "        A[i][i] = True\n",
    "\n",
    "    # Try all substrings of length 2\n",
    "    for i in range(len(s) - 1):\n",
    "        A[i][i + 1] = s[i] == s[i + 1]\n",
    "\n",
    "    i, k = 0, 3\n",
    "    while k <= len(s):\n",
    "        while i < (len(s) - k + 1) :\n",
    "            j = i + k - 1\n",
    "            A[i][j] = A[i + 1][j - 1] and s[i] == s[j]\n",
    "            # Update longest if necessary\n",
    "            if A[i][j] and len(s[i:j + 1]) > len(longest):\n",
    "                longest = s[i:j + 1]\n",
    "            i += 1\n",
    "        k += 1\n",
    "        i = 0\n",
    "    return longest"
   ]
  },
  {
   "cell_type": "markdown",
   "metadata": {},
   "source": [
    "This runs in O(N^2) time and space."
   ]
  },
  {
   "cell_type": "markdown",
   "metadata": {},
   "source": []
  }
 ],
 "metadata": {
  "kernelspec": {
   "display_name": "Python 3.9.13 64-bit (microsoft store)",
   "language": "python",
   "name": "python3"
  },
  "language_info": {
   "codemirror_mode": {
    "name": "ipython",
    "version": 3
   },
   "file_extension": ".py",
   "mimetype": "text/x-python",
   "name": "python",
   "nbconvert_exporter": "python",
   "pygments_lexer": "ipython3",
   "version": "3.9.13"
  },
  "orig_nbformat": 4,
  "vscode": {
   "interpreter": {
    "hash": "b2ddd62d3916e1314aeb2a2a333a2f9ca5e78cd48ba171057379eb2164a7ad87"
   }
  }
 },
 "nbformat": 4,
 "nbformat_minor": 2
}
