{
 "cells": [
  {
   "cell_type": "markdown",
   "metadata": {},
   "source": [
    "This problem was asked by Uber.\n",
    "\n",
    "Given an array of integers, return a new array such that each element at index i of the new array is the product of all the numbers in the original array except the one at i.\n",
    "\n",
    "For example, if our input was [1, 2, 3, 4, 5], the expected output would be [120, 60, 40, 30, 24]. If our input was [3, 2, 1], the expected output would be [2, 3, 6].\n",
    "\n",
    "Follow-up: what if you can't use division?"
   ]
  },
  {
   "cell_type": "markdown",
   "metadata": {},
   "source": [
    "# Answer"
   ]
  },
  {
   "cell_type": "code",
   "execution_count": 1,
   "metadata": {},
   "outputs": [],
   "source": [
    "def product_rest(lst):\n",
    "    new_lst = []\n",
    "    for i in range(len(lst)):\n",
    "        product = 1\n",
    "        for j in range(len(lst)):\n",
    "            if i == j:\n",
    "                continue\n",
    "            else:\n",
    "                product *= lst[j]\n",
    "        new_lst.append(product)\n",
    "    return new_lst"
   ]
  },
  {
   "cell_type": "code",
   "execution_count": 2,
   "metadata": {},
   "outputs": [
    {
     "name": "stdout",
     "output_type": "stream",
     "text": [
      "[120, 60, 40, 30, 24]\n",
      "[2, 3, 6]\n"
     ]
    }
   ],
   "source": [
    "print(product_rest([1,2,3,4,5]))\n",
    "print(product_rest([3,2,1]))"
   ]
  },
  {
   "cell_type": "markdown",
   "metadata": {},
   "source": [
    "# Solution"
   ]
  },
  {
   "cell_type": "code",
   "execution_count": null,
   "metadata": {},
   "outputs": [],
   "source": [
    "def products(nums):\n",
    "    # Generate prefix products\n",
    "    prefix_products = []\n",
    "    for num in nums:\n",
    "        if prefix_products:\n",
    "            prefix_products.append(prefix_products[-1] * num)\n",
    "        else:\n",
    "            prefix_products.append(num)\n",
    "\n",
    "    # Generate suffix products\n",
    "    suffix_products = []\n",
    "    for num in reversed(nums):\n",
    "        if suffix_products:\n",
    "            suffix_products.append(suffix_products[-1] * num)\n",
    "        else:\n",
    "            suffix_products.append(num)\n",
    "    suffix_products = list(reversed(suffix_products))\n",
    "\n",
    "    # Generate result\n",
    "    result = []\n",
    "    for i in range(len(nums)):\n",
    "        if i == 0:\n",
    "            result.append(suffix_products[i + 1])\n",
    "        elif i == len(nums) - 1:\n",
    "            result.append(prefix_products[i - 1])\n",
    "        else:\n",
    "            result.append(prefix_products[i - 1] * suffix_products[i + 1])\n",
    "    return result"
   ]
  },
  {
   "cell_type": "markdown",
   "metadata": {},
   "source": [
    "This runs in O(N) time and space, since iterating over the input arrays takes O(N) time and creating the prefix and suffix arrays take up O(N) space."
   ]
  },
  {
   "cell_type": "markdown",
   "metadata": {},
   "source": []
  }
 ],
 "metadata": {
  "kernelspec": {
   "display_name": "Python 3.8.3 ('base')",
   "language": "python",
   "name": "python3"
  },
  "language_info": {
   "codemirror_mode": {
    "name": "ipython",
    "version": 3
   },
   "file_extension": ".py",
   "mimetype": "text/x-python",
   "name": "python",
   "nbconvert_exporter": "python",
   "pygments_lexer": "ipython3",
   "version": "3.8.3"
  },
  "orig_nbformat": 4,
  "vscode": {
   "interpreter": {
    "hash": "dc75ad3c895cd2ba81c1222fac1608939b895cca0d74e30e206081794aee033f"
   }
  }
 },
 "nbformat": 4,
 "nbformat_minor": 2
}
